{
  "nbformat": 4,
  "nbformat_minor": 0,
  "metadata": {
    "colab": {
      "name": "FallDetectionClassification.ipynb",
      "version": "0.3.2",
      "provenance": [],
      "collapsed_sections": [
        "Ej8I3Cq7rgX3",
        "QzSgFEo76g5t"
      ],
      "toc_visible": true
    },
    "language_info": {
      "codemirror_mode": {
        "name": "ipython",
        "version": 3
      },
      "file_extension": ".py",
      "mimetype": "text/x-python",
      "name": "python",
      "nbconvert_exporter": "python",
      "pygments_lexer": "ipython3",
      "version": "3.7.3"
    },
    "kernelspec": {
      "name": "python3",
      "display_name": "Python 3"
    },
    "accelerator": "GPU"
  },
  "cells": [
    {
      "cell_type": "code",
      "metadata": {
        "id": "hcKpGV6frgW4",
        "colab_type": "code",
        "colab": {}
      },
      "source": [
        "%load_ext autoreload\n",
        "%autoreload 2"
      ],
      "execution_count": 0,
      "outputs": []
    },
    {
      "cell_type": "code",
      "metadata": {
        "id": "QWKr1ioNrgW_",
        "colab_type": "code",
        "outputId": "694088cf-0803-4651-bd32-19f5088ab8bc",
        "colab": {
          "base_uri": "https://localhost:8080/",
          "height": 34
        }
      },
      "source": [
        "import pandas as pd\n",
        "import numpy as np\n",
        "import matplotlib.pyplot as plt \n",
        "from sklearn import metrics\n",
        "from sklearn.ensemble import RandomForestRegressor, RandomForestClassifier\n",
        "from sklearn.model_selection import train_test_split, GridSearchCV\n",
        "from sklearn.metrics import confusion_matrix, accuracy_score\n",
        "from sklearn.tree import export_graphviz\n",
        "import IPython\n",
        "import graphviz\n",
        "import re\n",
        "from sklearn.neighbors import KNeighborsClassifier\n",
        "import warnings\n",
        "warnings.filterwarnings(\"ignore\")\n",
        "from sklearn.tree import DecisionTreeClassifier\n",
        "from matplotlib.legend_handler import HandlerLine2D\n",
        "from sklearn.linear_model import LogisticRegression\n",
        "from sklearn.preprocessing import StandardScaler\n",
        "from keras.utils import to_categorical\n",
        "from keras import Sequential\n",
        "from keras.layers import Dense, Dropout, Activation, BatchNormalization, merge"
      ],
      "execution_count": 0,
      "outputs": [
        {
          "output_type": "stream",
          "text": [
            "Using TensorFlow backend.\n"
          ],
          "name": "stderr"
        }
      ]
    },
    {
      "cell_type": "markdown",
      "metadata": {
        "id": "s59dasq-rgXC",
        "colab_type": "text"
      },
      "source": [
        "Для эксперементов была взята выборка, посвященная исследованию падений людей в пожилом возрасте. В данной выборке необходимо решить задачу классификации - определение типа движения."
      ]
    },
    {
      "cell_type": "code",
      "metadata": {
        "id": "ArHbPag-rgXI",
        "colab_type": "code",
        "colab": {}
      },
      "source": [
        "df_raw = pd.read_csv('falldetection.csv', low_memory=False)"
      ],
      "execution_count": 0,
      "outputs": []
    },
    {
      "cell_type": "markdown",
      "metadata": {
        "id": "s75EUXQprgXU",
        "colab_type": "text"
      },
      "source": [
        "Набор данных состоит из шести независимых переменных и одной зависимой переменной. Независимыми переменными выступают: \n",
        "1. TIME - время мониторинга добровольца \n",
        "2. SL - уровень сахара в крови \n",
        "3. EGG - ЭГГ мониторинг скорости \n",
        "4. BP - кровяное давление\n",
        "5. HR - частота сердечных сокращений\n",
        "6. CIRCLUATION - кровообращение\n",
        "\n",
        "Зависимая переменная, ACTIVITY, может принимать значение от 0 до 5, где \n",
        "\n",
        "0 - Стоящее положение, 1 - Ходьба, 2 - Сидящее положение, 3 - Падение, 4 - Судороги, 5 - Бег"
      ]
    },
    {
      "cell_type": "code",
      "metadata": {
        "id": "474ijZG9rgXW",
        "colab_type": "code",
        "outputId": "434344e7-38cf-429e-b1ba-7d75d621df86",
        "colab": {
          "base_uri": "https://localhost:8080/",
          "height": 195
        }
      },
      "source": [
        "df_raw.head()"
      ],
      "execution_count": 0,
      "outputs": [
        {
          "output_type": "execute_result",
          "data": {
            "text/html": [
              "<div>\n",
              "<style scoped>\n",
              "    .dataframe tbody tr th:only-of-type {\n",
              "        vertical-align: middle;\n",
              "    }\n",
              "\n",
              "    .dataframe tbody tr th {\n",
              "        vertical-align: top;\n",
              "    }\n",
              "\n",
              "    .dataframe thead th {\n",
              "        text-align: right;\n",
              "    }\n",
              "</style>\n",
              "<table border=\"1\" class=\"dataframe\">\n",
              "  <thead>\n",
              "    <tr style=\"text-align: right;\">\n",
              "      <th></th>\n",
              "      <th>ACTIVITY</th>\n",
              "      <th>TIME</th>\n",
              "      <th>SL</th>\n",
              "      <th>EEG</th>\n",
              "      <th>BP</th>\n",
              "      <th>HR</th>\n",
              "      <th>CIRCLUATION</th>\n",
              "    </tr>\n",
              "  </thead>\n",
              "  <tbody>\n",
              "    <tr>\n",
              "      <th>0</th>\n",
              "      <td>3</td>\n",
              "      <td>4722.92</td>\n",
              "      <td>4019.64</td>\n",
              "      <td>-1600.00</td>\n",
              "      <td>13</td>\n",
              "      <td>79</td>\n",
              "      <td>317</td>\n",
              "    </tr>\n",
              "    <tr>\n",
              "      <th>1</th>\n",
              "      <td>2</td>\n",
              "      <td>4059.12</td>\n",
              "      <td>2191.03</td>\n",
              "      <td>-1146.08</td>\n",
              "      <td>20</td>\n",
              "      <td>54</td>\n",
              "      <td>165</td>\n",
              "    </tr>\n",
              "    <tr>\n",
              "      <th>2</th>\n",
              "      <td>2</td>\n",
              "      <td>4773.56</td>\n",
              "      <td>2787.99</td>\n",
              "      <td>-1263.38</td>\n",
              "      <td>46</td>\n",
              "      <td>67</td>\n",
              "      <td>224</td>\n",
              "    </tr>\n",
              "    <tr>\n",
              "      <th>3</th>\n",
              "      <td>4</td>\n",
              "      <td>8271.27</td>\n",
              "      <td>9545.98</td>\n",
              "      <td>-2848.93</td>\n",
              "      <td>26</td>\n",
              "      <td>138</td>\n",
              "      <td>554</td>\n",
              "    </tr>\n",
              "    <tr>\n",
              "      <th>4</th>\n",
              "      <td>4</td>\n",
              "      <td>7102.16</td>\n",
              "      <td>14148.80</td>\n",
              "      <td>-2381.15</td>\n",
              "      <td>85</td>\n",
              "      <td>120</td>\n",
              "      <td>809</td>\n",
              "    </tr>\n",
              "  </tbody>\n",
              "</table>\n",
              "</div>"
            ],
            "text/plain": [
              "   ACTIVITY     TIME        SL      EEG  BP   HR  CIRCLUATION\n",
              "0         3  4722.92   4019.64 -1600.00  13   79          317\n",
              "1         2  4059.12   2191.03 -1146.08  20   54          165\n",
              "2         2  4773.56   2787.99 -1263.38  46   67          224\n",
              "3         4  8271.27   9545.98 -2848.93  26  138          554\n",
              "4         4  7102.16  14148.80 -2381.15  85  120          809"
            ]
          },
          "metadata": {
            "tags": []
          },
          "execution_count": 4
        }
      ]
    },
    {
      "cell_type": "code",
      "metadata": {
        "id": "tZavyybkrgXb",
        "colab_type": "code",
        "outputId": "ece33981-36d9-45f9-d382-6b2aef8bdc98",
        "colab": {
          "base_uri": "https://localhost:8080/",
          "height": 284
        }
      },
      "source": [
        "df_raw.describe()"
      ],
      "execution_count": 0,
      "outputs": [
        {
          "output_type": "execute_result",
          "data": {
            "text/html": [
              "<div>\n",
              "<style scoped>\n",
              "    .dataframe tbody tr th:only-of-type {\n",
              "        vertical-align: middle;\n",
              "    }\n",
              "\n",
              "    .dataframe tbody tr th {\n",
              "        vertical-align: top;\n",
              "    }\n",
              "\n",
              "    .dataframe thead th {\n",
              "        text-align: right;\n",
              "    }\n",
              "</style>\n",
              "<table border=\"1\" class=\"dataframe\">\n",
              "  <thead>\n",
              "    <tr style=\"text-align: right;\">\n",
              "      <th></th>\n",
              "      <th>ACTIVITY</th>\n",
              "      <th>TIME</th>\n",
              "      <th>SL</th>\n",
              "      <th>EEG</th>\n",
              "      <th>BP</th>\n",
              "      <th>HR</th>\n",
              "      <th>CIRCLUATION</th>\n",
              "    </tr>\n",
              "  </thead>\n",
              "  <tbody>\n",
              "    <tr>\n",
              "      <th>count</th>\n",
              "      <td>16382.000000</td>\n",
              "      <td>16382.000000</td>\n",
              "      <td>1.638200e+04</td>\n",
              "      <td>1.638200e+04</td>\n",
              "      <td>16382.000000</td>\n",
              "      <td>16382.000000</td>\n",
              "      <td>16382.000000</td>\n",
              "    </tr>\n",
              "    <tr>\n",
              "      <th>mean</th>\n",
              "      <td>2.361494</td>\n",
              "      <td>10936.842478</td>\n",
              "      <td>7.527198e+04</td>\n",
              "      <td>-5.621125e+03</td>\n",
              "      <td>58.251068</td>\n",
              "      <td>211.536992</td>\n",
              "      <td>2894.341472</td>\n",
              "    </tr>\n",
              "    <tr>\n",
              "      <th>std</th>\n",
              "      <td>1.739195</td>\n",
              "      <td>5261.463601</td>\n",
              "      <td>1.275022e+05</td>\n",
              "      <td>1.082209e+05</td>\n",
              "      <td>48.292926</td>\n",
              "      <td>129.949521</td>\n",
              "      <td>3825.927830</td>\n",
              "    </tr>\n",
              "    <tr>\n",
              "      <th>min</th>\n",
              "      <td>0.000000</td>\n",
              "      <td>1954.230000</td>\n",
              "      <td>4.222420e+01</td>\n",
              "      <td>-1.262600e+07</td>\n",
              "      <td>0.000000</td>\n",
              "      <td>33.000000</td>\n",
              "      <td>5.000000</td>\n",
              "    </tr>\n",
              "    <tr>\n",
              "      <th>25%</th>\n",
              "      <td>0.000000</td>\n",
              "      <td>7263.685000</td>\n",
              "      <td>9.941170e+03</td>\n",
              "      <td>-5.630000e+03</td>\n",
              "      <td>25.000000</td>\n",
              "      <td>119.000000</td>\n",
              "      <td>587.000000</td>\n",
              "    </tr>\n",
              "    <tr>\n",
              "      <th>50%</th>\n",
              "      <td>3.000000</td>\n",
              "      <td>9769.355000</td>\n",
              "      <td>3.118920e+04</td>\n",
              "      <td>-3.361275e+03</td>\n",
              "      <td>44.000000</td>\n",
              "      <td>180.000000</td>\n",
              "      <td>1581.000000</td>\n",
              "    </tr>\n",
              "    <tr>\n",
              "      <th>75%</th>\n",
              "      <td>4.000000</td>\n",
              "      <td>13481.650000</td>\n",
              "      <td>8.076145e+04</td>\n",
              "      <td>-2.150000e+03</td>\n",
              "      <td>78.000000</td>\n",
              "      <td>271.000000</td>\n",
              "      <td>3539.000000</td>\n",
              "    </tr>\n",
              "    <tr>\n",
              "      <th>max</th>\n",
              "      <td>5.000000</td>\n",
              "      <td>50895.500000</td>\n",
              "      <td>2.426140e+06</td>\n",
              "      <td>1.410000e+06</td>\n",
              "      <td>533.000000</td>\n",
              "      <td>986.000000</td>\n",
              "      <td>52210.000000</td>\n",
              "    </tr>\n",
              "  </tbody>\n",
              "</table>\n",
              "</div>"
            ],
            "text/plain": [
              "           ACTIVITY          TIME  ...            HR   CIRCLUATION\n",
              "count  16382.000000  16382.000000  ...  16382.000000  16382.000000\n",
              "mean       2.361494  10936.842478  ...    211.536992   2894.341472\n",
              "std        1.739195   5261.463601  ...    129.949521   3825.927830\n",
              "min        0.000000   1954.230000  ...     33.000000      5.000000\n",
              "25%        0.000000   7263.685000  ...    119.000000    587.000000\n",
              "50%        3.000000   9769.355000  ...    180.000000   1581.000000\n",
              "75%        4.000000  13481.650000  ...    271.000000   3539.000000\n",
              "max        5.000000  50895.500000  ...    986.000000  52210.000000\n",
              "\n",
              "[8 rows x 7 columns]"
            ]
          },
          "metadata": {
            "tags": []
          },
          "execution_count": 5
        }
      ]
    },
    {
      "cell_type": "markdown",
      "metadata": {
        "id": "ctMQG2X6sahX",
        "colab_type": "text"
      },
      "source": [
        "Пропущенных значений в выборке нет.\n"
      ]
    },
    {
      "cell_type": "code",
      "metadata": {
        "colab_type": "code",
        "outputId": "a089ebaa-3bfc-43bf-cfef-13a602fe0e79",
        "id": "BXyJKbx4nxu4",
        "colab": {
          "base_uri": "https://localhost:8080/",
          "height": 151
        }
      },
      "source": [
        "df_raw.isnull().sum()"
      ],
      "execution_count": 0,
      "outputs": [
        {
          "output_type": "execute_result",
          "data": {
            "text/plain": [
              "ACTIVITY       0\n",
              "TIME           0\n",
              "SL             0\n",
              "EEG            0\n",
              "BP             0\n",
              "HR             0\n",
              "CIRCLUATION    0\n",
              "dtype: int64"
            ]
          },
          "metadata": {
            "tags": []
          },
          "execution_count": 6
        }
      ]
    },
    {
      "cell_type": "markdown",
      "metadata": {
        "id": "8XKJSLCBrgXk",
        "colab_type": "text"
      },
      "source": [
        "Проанализировав данные, можно перейти к обучению модели. Прежде всего необходимо отделить независимые переменные от того, что мы будем предсказывать, а именно тип активности."
      ]
    },
    {
      "cell_type": "code",
      "metadata": {
        "id": "u0dKaJ5crgXr",
        "colab_type": "code",
        "colab": {}
      },
      "source": [
        "X = df_raw.iloc[:,1:]\n",
        "y = df_raw.ACTIVITY\n",
        "\n",
        "classes = df_raw.ACTIVITY.unique()"
      ],
      "execution_count": 0,
      "outputs": []
    },
    {
      "cell_type": "markdown",
      "metadata": {
        "id": "nMoF8innrgXv",
        "colab_type": "text"
      },
      "source": [
        "Датасет не содержит пропущенных значений, поэтому можно перейти к разделению выборки в соотношении 8:2 с помощью train_test_split из scikit-learn. Двадцать процентов выборки будет использоваться в качестве тестовой выборки для оценки точности окончательной модели. Оставшиеся 80% разделим в соотношении 8:2 на обучающую выборку и проверочную выборку (validation set)."
      ]
    },
    {
      "cell_type": "code",
      "metadata": {
        "id": "BQ5D7VD5rgXx",
        "colab_type": "code",
        "outputId": "99d3baa9-69e5-4a94-ef7a-d20ec03c501a",
        "colab": {
          "base_uri": "https://localhost:8080/",
          "height": 34
        }
      },
      "source": [
        "def split_values(x, y): return train_test_split(x, y, test_size = 0.2, random_state = 1)\n",
        "\n",
        "X_train, X_test, y_train, y_test = split_values(X, y)\n",
        "X_train, X_valid, y_train, y_valid = split_values(X_train, y_train)\n",
        "\n",
        "X_train.shape, y_train.shape, X_valid.shape, y_valid.shape, X_test.shape, y_test.shape"
      ],
      "execution_count": 0,
      "outputs": [
        {
          "output_type": "execute_result",
          "data": {
            "text/plain": [
              "((10484, 6), (10484,), (2621, 6), (2621,), (3277, 6), (3277,))"
            ]
          },
          "metadata": {
            "tags": []
          },
          "execution_count": 4
        }
      ]
    },
    {
      "cell_type": "code",
      "metadata": {
        "id": "AvJzJjz8Rgc2",
        "colab_type": "code",
        "outputId": "7e56cf5c-5812-49d4-886a-32a1bd957213",
        "colab": {
          "base_uri": "https://localhost:8080/",
          "height": 1882
        }
      },
      "source": [
        "X_train"
      ],
      "execution_count": 0,
      "outputs": [
        {
          "output_type": "execute_result",
          "data": {
            "text/html": [
              "<div>\n",
              "<style scoped>\n",
              "    .dataframe tbody tr th:only-of-type {\n",
              "        vertical-align: middle;\n",
              "    }\n",
              "\n",
              "    .dataframe tbody tr th {\n",
              "        vertical-align: top;\n",
              "    }\n",
              "\n",
              "    .dataframe thead th {\n",
              "        text-align: right;\n",
              "    }\n",
              "</style>\n",
              "<table border=\"1\" class=\"dataframe\">\n",
              "  <thead>\n",
              "    <tr style=\"text-align: right;\">\n",
              "      <th></th>\n",
              "      <th>TIME</th>\n",
              "      <th>SL</th>\n",
              "      <th>EEG</th>\n",
              "      <th>BP</th>\n",
              "      <th>HR</th>\n",
              "      <th>CIRCLUATION</th>\n",
              "    </tr>\n",
              "  </thead>\n",
              "  <tbody>\n",
              "    <tr>\n",
              "      <th>1212</th>\n",
              "      <td>9978.85</td>\n",
              "      <td>22245.80</td>\n",
              "      <td>-1760.000</td>\n",
              "      <td>25</td>\n",
              "      <td>182</td>\n",
              "      <td>1212</td>\n",
              "    </tr>\n",
              "    <tr>\n",
              "      <th>9847</th>\n",
              "      <td>8140.29</td>\n",
              "      <td>30545.00</td>\n",
              "      <td>-2599.000</td>\n",
              "      <td>109</td>\n",
              "      <td>169</td>\n",
              "      <td>1803</td>\n",
              "    </tr>\n",
              "    <tr>\n",
              "      <th>1468</th>\n",
              "      <td>22801.90</td>\n",
              "      <td>240508.00</td>\n",
              "      <td>-10800.000</td>\n",
              "      <td>86</td>\n",
              "      <td>537</td>\n",
              "      <td>8350</td>\n",
              "    </tr>\n",
              "    <tr>\n",
              "      <th>6304</th>\n",
              "      <td>12308.90</td>\n",
              "      <td>78261.00</td>\n",
              "      <td>-5360.000</td>\n",
              "      <td>50</td>\n",
              "      <td>272</td>\n",
              "      <td>3539</td>\n",
              "    </tr>\n",
              "    <tr>\n",
              "      <th>3546</th>\n",
              "      <td>13703.80</td>\n",
              "      <td>139452.00</td>\n",
              "      <td>-6680.000</td>\n",
              "      <td>43</td>\n",
              "      <td>315</td>\n",
              "      <td>5844</td>\n",
              "    </tr>\n",
              "    <tr>\n",
              "      <th>1862</th>\n",
              "      <td>18492.30</td>\n",
              "      <td>160740.00</td>\n",
              "      <td>-8860.000</td>\n",
              "      <td>90</td>\n",
              "      <td>388</td>\n",
              "      <td>6290</td>\n",
              "    </tr>\n",
              "    <tr>\n",
              "      <th>8114</th>\n",
              "      <td>18722.30</td>\n",
              "      <td>161716.00</td>\n",
              "      <td>-6515.660</td>\n",
              "      <td>87</td>\n",
              "      <td>352</td>\n",
              "      <td>6744</td>\n",
              "    </tr>\n",
              "    <tr>\n",
              "      <th>9116</th>\n",
              "      <td>7419.06</td>\n",
              "      <td>7846.00</td>\n",
              "      <td>-1990.000</td>\n",
              "      <td>15</td>\n",
              "      <td>115</td>\n",
              "      <td>457</td>\n",
              "    </tr>\n",
              "    <tr>\n",
              "      <th>7063</th>\n",
              "      <td>9199.75</td>\n",
              "      <td>26558.30</td>\n",
              "      <td>-2983.540</td>\n",
              "      <td>102</td>\n",
              "      <td>158</td>\n",
              "      <td>1403</td>\n",
              "    </tr>\n",
              "    <tr>\n",
              "      <th>7191</th>\n",
              "      <td>12817.30</td>\n",
              "      <td>58183.60</td>\n",
              "      <td>-1550.000</td>\n",
              "      <td>55</td>\n",
              "      <td>223</td>\n",
              "      <td>2822</td>\n",
              "    </tr>\n",
              "    <tr>\n",
              "      <th>6663</th>\n",
              "      <td>7350.50</td>\n",
              "      <td>8681.61</td>\n",
              "      <td>-1884.020</td>\n",
              "      <td>73</td>\n",
              "      <td>107</td>\n",
              "      <td>517</td>\n",
              "    </tr>\n",
              "    <tr>\n",
              "      <th>12869</th>\n",
              "      <td>3813.49</td>\n",
              "      <td>1444.76</td>\n",
              "      <td>-992.066</td>\n",
              "      <td>42</td>\n",
              "      <td>52</td>\n",
              "      <td>133</td>\n",
              "    </tr>\n",
              "    <tr>\n",
              "      <th>11335</th>\n",
              "      <td>23067.50</td>\n",
              "      <td>279856.00</td>\n",
              "      <td>-9632.660</td>\n",
              "      <td>66</td>\n",
              "      <td>468</td>\n",
              "      <td>9276</td>\n",
              "    </tr>\n",
              "    <tr>\n",
              "      <th>3476</th>\n",
              "      <td>7669.23</td>\n",
              "      <td>7378.00</td>\n",
              "      <td>-2593.000</td>\n",
              "      <td>8</td>\n",
              "      <td>128</td>\n",
              "      <td>399</td>\n",
              "    </tr>\n",
              "    <tr>\n",
              "      <th>8951</th>\n",
              "      <td>7340.32</td>\n",
              "      <td>7715.43</td>\n",
              "      <td>-1650.000</td>\n",
              "      <td>20</td>\n",
              "      <td>111</td>\n",
              "      <td>453</td>\n",
              "    </tr>\n",
              "    <tr>\n",
              "      <th>1586</th>\n",
              "      <td>5510.91</td>\n",
              "      <td>2945.00</td>\n",
              "      <td>-2456.000</td>\n",
              "      <td>18</td>\n",
              "      <td>80</td>\n",
              "      <td>226</td>\n",
              "    </tr>\n",
              "    <tr>\n",
              "      <th>8743</th>\n",
              "      <td>7932.91</td>\n",
              "      <td>4738.13</td>\n",
              "      <td>-2734.340</td>\n",
              "      <td>36</td>\n",
              "      <td>131</td>\n",
              "      <td>271</td>\n",
              "    </tr>\n",
              "    <tr>\n",
              "      <th>3724</th>\n",
              "      <td>19248.40</td>\n",
              "      <td>161076.00</td>\n",
              "      <td>-10600.000</td>\n",
              "      <td>71</td>\n",
              "      <td>388</td>\n",
              "      <td>6290</td>\n",
              "    </tr>\n",
              "    <tr>\n",
              "      <th>5190</th>\n",
              "      <td>11228.20</td>\n",
              "      <td>69214.00</td>\n",
              "      <td>-4965.000</td>\n",
              "      <td>25</td>\n",
              "      <td>258</td>\n",
              "      <td>3375</td>\n",
              "    </tr>\n",
              "    <tr>\n",
              "      <th>559</th>\n",
              "      <td>14193.60</td>\n",
              "      <td>52252.60</td>\n",
              "      <td>-3030.000</td>\n",
              "      <td>34</td>\n",
              "      <td>234</td>\n",
              "      <td>2464</td>\n",
              "    </tr>\n",
              "    <tr>\n",
              "      <th>14555</th>\n",
              "      <td>10205.10</td>\n",
              "      <td>26404.50</td>\n",
              "      <td>-3276.480</td>\n",
              "      <td>27</td>\n",
              "      <td>174</td>\n",
              "      <td>1415</td>\n",
              "    </tr>\n",
              "    <tr>\n",
              "      <th>5324</th>\n",
              "      <td>11312.30</td>\n",
              "      <td>50808.00</td>\n",
              "      <td>-3789.000</td>\n",
              "      <td>30</td>\n",
              "      <td>195</td>\n",
              "      <td>1753</td>\n",
              "    </tr>\n",
              "    <tr>\n",
              "      <th>8797</th>\n",
              "      <td>9300.16</td>\n",
              "      <td>16363.00</td>\n",
              "      <td>-3766.000</td>\n",
              "      <td>66</td>\n",
              "      <td>154</td>\n",
              "      <td>889</td>\n",
              "    </tr>\n",
              "    <tr>\n",
              "      <th>10628</th>\n",
              "      <td>15031.80</td>\n",
              "      <td>95068.00</td>\n",
              "      <td>-4240.000</td>\n",
              "      <td>70</td>\n",
              "      <td>254</td>\n",
              "      <td>3885</td>\n",
              "    </tr>\n",
              "    <tr>\n",
              "      <th>15100</th>\n",
              "      <td>7443.88</td>\n",
              "      <td>4171.36</td>\n",
              "      <td>-2249.330</td>\n",
              "      <td>71</td>\n",
              "      <td>101</td>\n",
              "      <td>249</td>\n",
              "    </tr>\n",
              "    <tr>\n",
              "      <th>5655</th>\n",
              "      <td>18282.30</td>\n",
              "      <td>308912.00</td>\n",
              "      <td>-11053.000</td>\n",
              "      <td>108</td>\n",
              "      <td>438</td>\n",
              "      <td>11122</td>\n",
              "    </tr>\n",
              "    <tr>\n",
              "      <th>7783</th>\n",
              "      <td>16056.70</td>\n",
              "      <td>116627.00</td>\n",
              "      <td>-4730.000</td>\n",
              "      <td>64</td>\n",
              "      <td>271</td>\n",
              "      <td>4426</td>\n",
              "    </tr>\n",
              "    <tr>\n",
              "      <th>10197</th>\n",
              "      <td>3981.62</td>\n",
              "      <td>2199.18</td>\n",
              "      <td>-915.964</td>\n",
              "      <td>23</td>\n",
              "      <td>54</td>\n",
              "      <td>165</td>\n",
              "    </tr>\n",
              "    <tr>\n",
              "      <th>7768</th>\n",
              "      <td>10123.40</td>\n",
              "      <td>34010.00</td>\n",
              "      <td>-4434.000</td>\n",
              "      <td>85</td>\n",
              "      <td>192</td>\n",
              "      <td>1685</td>\n",
              "    </tr>\n",
              "    <tr>\n",
              "      <th>333</th>\n",
              "      <td>12857.60</td>\n",
              "      <td>52380.40</td>\n",
              "      <td>-5090.000</td>\n",
              "      <td>16</td>\n",
              "      <td>215</td>\n",
              "      <td>2188</td>\n",
              "    </tr>\n",
              "    <tr>\n",
              "      <th>...</th>\n",
              "      <td>...</td>\n",
              "      <td>...</td>\n",
              "      <td>...</td>\n",
              "      <td>...</td>\n",
              "      <td>...</td>\n",
              "      <td>...</td>\n",
              "    </tr>\n",
              "    <tr>\n",
              "      <th>1744</th>\n",
              "      <td>9988.74</td>\n",
              "      <td>24152.00</td>\n",
              "      <td>-5247.000</td>\n",
              "      <td>67</td>\n",
              "      <td>200</td>\n",
              "      <td>1264</td>\n",
              "    </tr>\n",
              "    <tr>\n",
              "      <th>12048</th>\n",
              "      <td>8829.01</td>\n",
              "      <td>28697.70</td>\n",
              "      <td>-3482.980</td>\n",
              "      <td>35</td>\n",
              "      <td>179</td>\n",
              "      <td>1626</td>\n",
              "    </tr>\n",
              "    <tr>\n",
              "      <th>12931</th>\n",
              "      <td>17925.90</td>\n",
              "      <td>139687.00</td>\n",
              "      <td>-9530.000</td>\n",
              "      <td>70</td>\n",
              "      <td>449</td>\n",
              "      <td>5537</td>\n",
              "    </tr>\n",
              "    <tr>\n",
              "      <th>7211</th>\n",
              "      <td>11608.70</td>\n",
              "      <td>57005.00</td>\n",
              "      <td>-6770.000</td>\n",
              "      <td>50</td>\n",
              "      <td>251</td>\n",
              "      <td>2677</td>\n",
              "    </tr>\n",
              "    <tr>\n",
              "      <th>10540</th>\n",
              "      <td>5977.90</td>\n",
              "      <td>11023.00</td>\n",
              "      <td>-1908.820</td>\n",
              "      <td>20</td>\n",
              "      <td>102</td>\n",
              "      <td>764</td>\n",
              "    </tr>\n",
              "    <tr>\n",
              "      <th>1293</th>\n",
              "      <td>9521.98</td>\n",
              "      <td>21965.50</td>\n",
              "      <td>-2771.980</td>\n",
              "      <td>67</td>\n",
              "      <td>145</td>\n",
              "      <td>1156</td>\n",
              "    </tr>\n",
              "    <tr>\n",
              "      <th>3969</th>\n",
              "      <td>18018.70</td>\n",
              "      <td>160931.00</td>\n",
              "      <td>-9760.000</td>\n",
              "      <td>76</td>\n",
              "      <td>388</td>\n",
              "      <td>6290</td>\n",
              "    </tr>\n",
              "    <tr>\n",
              "      <th>5517</th>\n",
              "      <td>9773.64</td>\n",
              "      <td>34345.00</td>\n",
              "      <td>-3926.000</td>\n",
              "      <td>27</td>\n",
              "      <td>187</td>\n",
              "      <td>1576</td>\n",
              "    </tr>\n",
              "    <tr>\n",
              "      <th>11835</th>\n",
              "      <td>7779.98</td>\n",
              "      <td>9441.89</td>\n",
              "      <td>-2997.920</td>\n",
              "      <td>97</td>\n",
              "      <td>130</td>\n",
              "      <td>490</td>\n",
              "    </tr>\n",
              "    <tr>\n",
              "      <th>16019</th>\n",
              "      <td>17709.20</td>\n",
              "      <td>138378.00</td>\n",
              "      <td>-7830.000</td>\n",
              "      <td>118</td>\n",
              "      <td>449</td>\n",
              "      <td>5537</td>\n",
              "    </tr>\n",
              "    <tr>\n",
              "      <th>1712</th>\n",
              "      <td>8178.44</td>\n",
              "      <td>4565.62</td>\n",
              "      <td>-2668.400</td>\n",
              "      <td>30</td>\n",
              "      <td>131</td>\n",
              "      <td>271</td>\n",
              "    </tr>\n",
              "    <tr>\n",
              "      <th>11445</th>\n",
              "      <td>16674.50</td>\n",
              "      <td>111149.00</td>\n",
              "      <td>-6620.000</td>\n",
              "      <td>34</td>\n",
              "      <td>322</td>\n",
              "      <td>4619</td>\n",
              "    </tr>\n",
              "    <tr>\n",
              "      <th>3980</th>\n",
              "      <td>8282.93</td>\n",
              "      <td>12161.80</td>\n",
              "      <td>-2572.740</td>\n",
              "      <td>86</td>\n",
              "      <td>128</td>\n",
              "      <td>693</td>\n",
              "    </tr>\n",
              "    <tr>\n",
              "      <th>2278</th>\n",
              "      <td>21230.40</td>\n",
              "      <td>147469.00</td>\n",
              "      <td>-7260.000</td>\n",
              "      <td>89</td>\n",
              "      <td>449</td>\n",
              "      <td>5537</td>\n",
              "    </tr>\n",
              "    <tr>\n",
              "      <th>10437</th>\n",
              "      <td>8703.84</td>\n",
              "      <td>21415.30</td>\n",
              "      <td>-3000.780</td>\n",
              "      <td>68</td>\n",
              "      <td>145</td>\n",
              "      <td>1156</td>\n",
              "    </tr>\n",
              "    <tr>\n",
              "      <th>16129</th>\n",
              "      <td>9479.68</td>\n",
              "      <td>39866.40</td>\n",
              "      <td>-3260.000</td>\n",
              "      <td>16</td>\n",
              "      <td>196</td>\n",
              "      <td>1885</td>\n",
              "    </tr>\n",
              "    <tr>\n",
              "      <th>6231</th>\n",
              "      <td>7731.54</td>\n",
              "      <td>15127.50</td>\n",
              "      <td>-2712.630</td>\n",
              "      <td>57</td>\n",
              "      <td>134</td>\n",
              "      <td>970</td>\n",
              "    </tr>\n",
              "    <tr>\n",
              "      <th>89</th>\n",
              "      <td>13011.90</td>\n",
              "      <td>70519.90</td>\n",
              "      <td>-5529.930</td>\n",
              "      <td>42</td>\n",
              "      <td>262</td>\n",
              "      <td>3211</td>\n",
              "    </tr>\n",
              "    <tr>\n",
              "      <th>8118</th>\n",
              "      <td>22804.40</td>\n",
              "      <td>278528.00</td>\n",
              "      <td>-10000.000</td>\n",
              "      <td>100</td>\n",
              "      <td>537</td>\n",
              "      <td>8350</td>\n",
              "    </tr>\n",
              "    <tr>\n",
              "      <th>12941</th>\n",
              "      <td>6079.16</td>\n",
              "      <td>10964.40</td>\n",
              "      <td>-1888.810</td>\n",
              "      <td>19</td>\n",
              "      <td>102</td>\n",
              "      <td>764</td>\n",
              "    </tr>\n",
              "    <tr>\n",
              "      <th>7902</th>\n",
              "      <td>6734.39</td>\n",
              "      <td>12224.70</td>\n",
              "      <td>-1829.160</td>\n",
              "      <td>6</td>\n",
              "      <td>105</td>\n",
              "      <td>765</td>\n",
              "    </tr>\n",
              "    <tr>\n",
              "      <th>6377</th>\n",
              "      <td>8678.90</td>\n",
              "      <td>20324.00</td>\n",
              "      <td>-3497.000</td>\n",
              "      <td>94</td>\n",
              "      <td>163</td>\n",
              "      <td>1162</td>\n",
              "    </tr>\n",
              "    <tr>\n",
              "      <th>9012</th>\n",
              "      <td>9782.04</td>\n",
              "      <td>32985.50</td>\n",
              "      <td>-3492.620</td>\n",
              "      <td>85</td>\n",
              "      <td>176</td>\n",
              "      <td>1922</td>\n",
              "    </tr>\n",
              "    <tr>\n",
              "      <th>2929</th>\n",
              "      <td>11427.10</td>\n",
              "      <td>87581.90</td>\n",
              "      <td>-3320.000</td>\n",
              "      <td>28</td>\n",
              "      <td>220</td>\n",
              "      <td>3450</td>\n",
              "    </tr>\n",
              "    <tr>\n",
              "      <th>5133</th>\n",
              "      <td>16024.80</td>\n",
              "      <td>132172.00</td>\n",
              "      <td>-6483.000</td>\n",
              "      <td>47</td>\n",
              "      <td>348</td>\n",
              "      <td>5123</td>\n",
              "    </tr>\n",
              "    <tr>\n",
              "      <th>4715</th>\n",
              "      <td>5641.39</td>\n",
              "      <td>4287.75</td>\n",
              "      <td>-1540.000</td>\n",
              "      <td>13</td>\n",
              "      <td>88</td>\n",
              "      <td>292</td>\n",
              "    </tr>\n",
              "    <tr>\n",
              "      <th>1511</th>\n",
              "      <td>13557.70</td>\n",
              "      <td>155807.00</td>\n",
              "      <td>-5761.000</td>\n",
              "      <td>52</td>\n",
              "      <td>299</td>\n",
              "      <td>6966</td>\n",
              "    </tr>\n",
              "    <tr>\n",
              "      <th>11571</th>\n",
              "      <td>4519.40</td>\n",
              "      <td>3123.49</td>\n",
              "      <td>-1252.510</td>\n",
              "      <td>33</td>\n",
              "      <td>71</td>\n",
              "      <td>249</td>\n",
              "    </tr>\n",
              "    <tr>\n",
              "      <th>12345</th>\n",
              "      <td>13092.10</td>\n",
              "      <td>94861.00</td>\n",
              "      <td>-3329.000</td>\n",
              "      <td>217</td>\n",
              "      <td>164</td>\n",
              "      <td>1746</td>\n",
              "    </tr>\n",
              "    <tr>\n",
              "      <th>14180</th>\n",
              "      <td>11389.60</td>\n",
              "      <td>26771.00</td>\n",
              "      <td>-3052.000</td>\n",
              "      <td>56</td>\n",
              "      <td>163</td>\n",
              "      <td>770</td>\n",
              "    </tr>\n",
              "  </tbody>\n",
              "</table>\n",
              "<p>10484 rows × 6 columns</p>\n",
              "</div>"
            ],
            "text/plain": [
              "           TIME         SL        EEG   BP   HR  CIRCLUATION\n",
              "1212    9978.85   22245.80  -1760.000   25  182         1212\n",
              "9847    8140.29   30545.00  -2599.000  109  169         1803\n",
              "1468   22801.90  240508.00 -10800.000   86  537         8350\n",
              "6304   12308.90   78261.00  -5360.000   50  272         3539\n",
              "3546   13703.80  139452.00  -6680.000   43  315         5844\n",
              "1862   18492.30  160740.00  -8860.000   90  388         6290\n",
              "8114   18722.30  161716.00  -6515.660   87  352         6744\n",
              "9116    7419.06    7846.00  -1990.000   15  115          457\n",
              "7063    9199.75   26558.30  -2983.540  102  158         1403\n",
              "7191   12817.30   58183.60  -1550.000   55  223         2822\n",
              "6663    7350.50    8681.61  -1884.020   73  107          517\n",
              "12869   3813.49    1444.76   -992.066   42   52          133\n",
              "11335  23067.50  279856.00  -9632.660   66  468         9276\n",
              "3476    7669.23    7378.00  -2593.000    8  128          399\n",
              "8951    7340.32    7715.43  -1650.000   20  111          453\n",
              "1586    5510.91    2945.00  -2456.000   18   80          226\n",
              "8743    7932.91    4738.13  -2734.340   36  131          271\n",
              "3724   19248.40  161076.00 -10600.000   71  388         6290\n",
              "5190   11228.20   69214.00  -4965.000   25  258         3375\n",
              "559    14193.60   52252.60  -3030.000   34  234         2464\n",
              "14555  10205.10   26404.50  -3276.480   27  174         1415\n",
              "5324   11312.30   50808.00  -3789.000   30  195         1753\n",
              "8797    9300.16   16363.00  -3766.000   66  154          889\n",
              "10628  15031.80   95068.00  -4240.000   70  254         3885\n",
              "15100   7443.88    4171.36  -2249.330   71  101          249\n",
              "5655   18282.30  308912.00 -11053.000  108  438        11122\n",
              "7783   16056.70  116627.00  -4730.000   64  271         4426\n",
              "10197   3981.62    2199.18   -915.964   23   54          165\n",
              "7768   10123.40   34010.00  -4434.000   85  192         1685\n",
              "333    12857.60   52380.40  -5090.000   16  215         2188\n",
              "...         ...        ...        ...  ...  ...          ...\n",
              "1744    9988.74   24152.00  -5247.000   67  200         1264\n",
              "12048   8829.01   28697.70  -3482.980   35  179         1626\n",
              "12931  17925.90  139687.00  -9530.000   70  449         5537\n",
              "7211   11608.70   57005.00  -6770.000   50  251         2677\n",
              "10540   5977.90   11023.00  -1908.820   20  102          764\n",
              "1293    9521.98   21965.50  -2771.980   67  145         1156\n",
              "3969   18018.70  160931.00  -9760.000   76  388         6290\n",
              "5517    9773.64   34345.00  -3926.000   27  187         1576\n",
              "11835   7779.98    9441.89  -2997.920   97  130          490\n",
              "16019  17709.20  138378.00  -7830.000  118  449         5537\n",
              "1712    8178.44    4565.62  -2668.400   30  131          271\n",
              "11445  16674.50  111149.00  -6620.000   34  322         4619\n",
              "3980    8282.93   12161.80  -2572.740   86  128          693\n",
              "2278   21230.40  147469.00  -7260.000   89  449         5537\n",
              "10437   8703.84   21415.30  -3000.780   68  145         1156\n",
              "16129   9479.68   39866.40  -3260.000   16  196         1885\n",
              "6231    7731.54   15127.50  -2712.630   57  134          970\n",
              "89     13011.90   70519.90  -5529.930   42  262         3211\n",
              "8118   22804.40  278528.00 -10000.000  100  537         8350\n",
              "12941   6079.16   10964.40  -1888.810   19  102          764\n",
              "7902    6734.39   12224.70  -1829.160    6  105          765\n",
              "6377    8678.90   20324.00  -3497.000   94  163         1162\n",
              "9012    9782.04   32985.50  -3492.620   85  176         1922\n",
              "2929   11427.10   87581.90  -3320.000   28  220         3450\n",
              "5133   16024.80  132172.00  -6483.000   47  348         5123\n",
              "4715    5641.39    4287.75  -1540.000   13   88          292\n",
              "1511   13557.70  155807.00  -5761.000   52  299         6966\n",
              "11571   4519.40    3123.49  -1252.510   33   71          249\n",
              "12345  13092.10   94861.00  -3329.000  217  164         1746\n",
              "14180  11389.60   26771.00  -3052.000   56  163          770\n",
              "\n",
              "[10484 rows x 6 columns]"
            ]
          },
          "metadata": {
            "tags": []
          },
          "execution_count": 9
        }
      ]
    },
    {
      "cell_type": "markdown",
      "metadata": {
        "id": "8_bAmVDxi-Uc",
        "colab_type": "text"
      },
      "source": [
        "Функция print_score была создана для вывода качества модели. Первое значение соответствует accuracy модели на train set, а второе значение - accuracy модели на validation set."
      ]
    },
    {
      "cell_type": "code",
      "metadata": {
        "id": "_OF7wU-trgX9",
        "colab_type": "code",
        "colab": {}
      },
      "source": [
        "def print_score(m, normalize=False, conf_matrix=False): \n",
        "    if conf_matrix:\n",
        "        plot_confusion_matrix(y_valid, m.predict(X_valid), classes=classes, normalize=normalize,\n",
        "                              title='Normalized confusion matrix')\n",
        "        plt.show()\n",
        "    res = [accuracy_score(y_train, m.predict(X_train)), accuracy_score(y_valid, m.predict(X_valid))]\n",
        "    if hasattr(m, 'oob_score_'): res.append(m.oob_score_)\n",
        "    print(res)"
      ],
      "execution_count": 0,
      "outputs": []
    },
    {
      "cell_type": "markdown",
      "metadata": {
        "id": "O_goc6q1tLtZ",
        "colab_type": "text"
      },
      "source": [
        "Функция plot_accuracy_models создана для построения графика, отражающего тенденцию изменения качества модели от изменения одно из гиперпараметров."
      ]
    },
    {
      "cell_type": "code",
      "metadata": {
        "id": "REPsYvIkSAOJ",
        "colab_type": "code",
        "colab": {}
      },
      "source": [
        "def plot_accuracy_models(parameters, train_scores, valid_scores):\n",
        "    line1, = plt.plot(parameters, train_scores, 'b', label='Train accuracy')\n",
        "    line2, = plt.plot(parameters, valid_scores, 'r', label='Validation accuracy')\n",
        "    plt.legend(handler_map={line1: HandlerLine2D(numpoints=2)})\n",
        "    plt.ylabel('Accuracy')\n",
        "    plt.xlabel('Parameter value')\n",
        "    plt.show()\n"
      ],
      "execution_count": 0,
      "outputs": []
    },
    {
      "cell_type": "markdown",
      "metadata": {
        "id": "AmLtfTbxKM6d",
        "colab_type": "text"
      },
      "source": [
        "Функция accuracy_scores создана для вычисления значения качества модели на обучающей выборке и на validation set"
      ]
    },
    {
      "cell_type": "code",
      "metadata": {
        "id": "vvw8HRXDRFbX",
        "colab_type": "code",
        "colab": {}
      },
      "source": [
        "def accuracy_scores(m):\n",
        "    valid_scores.append(accuracy_score(y_valid, m.predict(X_valid)))\n",
        "    train_scores.append(accuracy_score(y_train, m.predict(X_train)))\n",
        "    return valid_scores, train_scores"
      ],
      "execution_count": 0,
      "outputs": []
    },
    {
      "cell_type": "markdown",
      "metadata": {
        "id": "Ej8I3Cq7rgX3",
        "colab_type": "text"
      },
      "source": [
        "# Random Forests"
      ]
    },
    {
      "cell_type": "markdown",
      "metadata": {
        "id": "R6VnNG1kiZel",
        "colab_type": "text"
      },
      "source": [
        "Функция plot_confusion_matrix, взятая с официалього сайта scikitlearn, позволяет вывести confusion_matrix в более наглядном виде."
      ]
    },
    {
      "cell_type": "code",
      "metadata": {
        "id": "UKdCLkcVrgX4",
        "colab_type": "code",
        "colab": {}
      },
      "source": [
        "def plot_confusion_matrix(y_true, y_pred, classes,\n",
        "                          normalize=True,\n",
        "                          title=None,\n",
        "                          cmap=plt.cm.Blues):\n",
        "    \n",
        "    if not title:\n",
        "        if normalize:\n",
        "            title = 'Normalized confusion matrix'\n",
        "        else:\n",
        "            title = 'Confusion matrix, without normalization'\n",
        "\n",
        "    # Compute confusion matrix\n",
        "    cm = confusion_matrix(y_true, y_pred)\n",
        "    # Only use the labels that appear in the data\n",
        "    if normalize:\n",
        "        cm = cm.astype('float') / cm.sum(axis=1)[:, np.newaxis]\n",
        "\n",
        "    fig, ax = plt.subplots()\n",
        "    im = ax.imshow(cm, interpolation='nearest', cmap=cmap)\n",
        "    ax.figure.colorbar(im, ax=ax)\n",
        "    # We want to show all ticks...\n",
        "    ax.set(xticks=np.arange(cm.shape[1]),\n",
        "           yticks=np.arange(cm.shape[0]),\n",
        "           # ... and label them with the respective list entries\n",
        "           xticklabels=classes, yticklabels=classes,\n",
        "           title=title,\n",
        "           ylabel='True label',\n",
        "           xlabel='Predicted label')\n",
        "\n",
        "    # Rotate the tick labels and set their alignment.\n",
        "    plt.setp(ax.get_xticklabels(), rotation=45, ha=\"right\",\n",
        "             rotation_mode=\"anchor\")\n",
        "\n",
        "    # Loop over data dimensions and create text annotations.\n",
        "    fmt = '.2f' if normalize else 'd'\n",
        "    thresh = cm.max() / 2.\n",
        "    for i in range(cm.shape[0]):\n",
        "        for j in range(cm.shape[1]):\n",
        "            ax.text(j, i, format(cm[i, j], fmt),\n",
        "                    ha=\"center\", va=\"center\",\n",
        "                    color=\"white\" if cm[i, j] > thresh else \"black\")\n",
        "    fig.tight_layout()\n",
        "    return ax"
      ],
      "execution_count": 0,
      "outputs": []
    },
    {
      "cell_type": "markdown",
      "metadata": {
        "id": "uruep8e5jpAg",
        "colab_type": "text"
      },
      "source": [
        "Функция draw_tree была взята из библиотеки fastai для наглядного построения дерева решений."
      ]
    },
    {
      "cell_type": "code",
      "metadata": {
        "id": "t38tnfqNrgYA",
        "colab_type": "code",
        "colab": {}
      },
      "source": [
        "def draw_tree(t, df, size=10, ratio=0.6, precision=0):\n",
        "    s=export_graphviz(t, out_file=None, feature_names=df.columns, filled=True,\n",
        "                      special_characters=True, rotate=True, precision=precision)\n",
        "    IPython.display.display(graphviz.Source(re.sub('Tree {',\n",
        "       f'Tree {{ size={size}; ratio={ratio}', s)))"
      ],
      "execution_count": 0,
      "outputs": []
    },
    {
      "cell_type": "markdown",
      "metadata": {
        "id": "bzwLYeD7v2qv",
        "colab_type": "text"
      },
      "source": [
        "## Single tree"
      ]
    },
    {
      "cell_type": "markdown",
      "metadata": {
        "id": "8-ovaYMc3xNA",
        "colab_type": "text"
      },
      "source": [
        "Построим случайный лес с одним деревом глубины 3."
      ]
    },
    {
      "cell_type": "code",
      "metadata": {
        "id": "FIXJPf5HrgYI",
        "colab_type": "code",
        "outputId": "adf1d825-b585-4d3e-bf7b-2386358d01ef",
        "colab": {
          "base_uri": "https://localhost:8080/",
          "height": 34
        }
      },
      "source": [
        "rf = RandomForestClassifier(n_estimators=1, max_depth=2, bootstrap=False, n_jobs=-1)\n",
        "rf.fit(X_train, y_train)\n",
        "print_score(rf)"
      ],
      "execution_count": 0,
      "outputs": [
        {
          "output_type": "stream",
          "text": [
            "[0.3655093475772606, 0.3700877527661198]\n"
          ],
          "name": "stdout"
        }
      ]
    },
    {
      "cell_type": "code",
      "metadata": {
        "id": "1bPLBS50rgYW",
        "colab_type": "code",
        "outputId": "053dac55-b65b-44dd-92d6-ab0820ec74e9",
        "colab": {
          "base_uri": "https://localhost:8080/",
          "height": 601
        }
      },
      "source": [
        "draw_tree(rf.estimators_[0], X_train, precision=3)"
      ],
      "execution_count": 0,
      "outputs": [
        {
          "output_type": "display_data",
          "data": {
            "text/plain": [
              "<graphviz.files.Source at 0x7fd15a1a0978>"
            ],
            "image/svg+xml": "<?xml version=\"1.0\" encoding=\"UTF-8\" standalone=\"no\"?>\n<!DOCTYPE svg PUBLIC \"-//W3C//DTD SVG 1.1//EN\"\n \"http://www.w3.org/Graphics/SVG/1.1/DTD/svg11.dtd\">\n<!-- Generated by graphviz version 2.40.1 (20161225.0304)\n -->\n<!-- Title: Tree Pages: 1 -->\n<svg width=\"720pt\" height=\"435pt\"\n viewBox=\"0.00 0.00 720.00 434.59\" xmlns=\"http://www.w3.org/2000/svg\" xmlns:xlink=\"http://www.w3.org/1999/xlink\">\n<g id=\"graph0\" class=\"graph\" transform=\"scale(.8099 .8099) rotate(0) translate(4 532.6)\">\n<title>Tree</title>\n<polygon fill=\"#ffffff\" stroke=\"transparent\" points=\"-4,4 -4,-532.6 885,-532.6 885,4 -4,4\"/>\n<!-- 0 -->\n<g id=\"node1\" class=\"node\">\n<title>0</title>\n<polygon fill=\"#e58139\" fill-opacity=\"0.086275\" stroke=\"#000000\" points=\"282,-300.8811 0,-300.8811 0,-232.8811 282,-232.8811 282,-300.8811\"/>\n<text text-anchor=\"start\" x=\"88.5\" y=\"-285.6811\" font-family=\"Times,serif\" font-size=\"14.00\" fill=\"#000000\">EEG ≤ &#45;4531.005</text>\n<text text-anchor=\"start\" x=\"104.5\" y=\"-270.6811\" font-family=\"Times,serif\" font-size=\"14.00\" fill=\"#000000\">gini = 0.792</text>\n<text text-anchor=\"start\" x=\"91.5\" y=\"-255.6811\" font-family=\"Times,serif\" font-size=\"14.00\" fill=\"#000000\">samples = 10484</text>\n<text text-anchor=\"start\" x=\"8\" y=\"-240.6811\" font-family=\"Times,serif\" font-size=\"14.00\" fill=\"#000000\">value = [2991, 309, 1608, 2286, 2214, 1076]</text>\n</g>\n<!-- 1 -->\n<g id=\"node2\" class=\"node\">\n<title>1</title>\n<polygon fill=\"#e58139\" fill-opacity=\"0.368627\" stroke=\"#000000\" points=\"577.5,-385.8811 332.5,-385.8811 332.5,-317.8811 577.5,-317.8811 577.5,-385.8811\"/>\n<text text-anchor=\"start\" x=\"378\" y=\"-370.6811\" font-family=\"Times,serif\" font-size=\"14.00\" fill=\"#000000\">CIRCLUATION ≤ 2060.5</text>\n<text text-anchor=\"start\" x=\"418.5\" y=\"-355.6811\" font-family=\"Times,serif\" font-size=\"14.00\" fill=\"#000000\">gini = 0.694</text>\n<text text-anchor=\"start\" x=\"409.5\" y=\"-340.6811\" font-family=\"Times,serif\" font-size=\"14.00\" fill=\"#000000\">samples = 3627</text>\n<text text-anchor=\"start\" x=\"340.5\" y=\"-325.6811\" font-family=\"Times,serif\" font-size=\"14.00\" fill=\"#000000\">value = [1764, 49, 322, 677, 512, 303]</text>\n</g>\n<!-- 0&#45;&gt;1 -->\n<g id=\"edge1\" class=\"edge\">\n<title>0&#45;&gt;1</title>\n<path fill=\"none\" stroke=\"#000000\" d=\"M266.9066,-300.9641C285.2018,-305.9166 304.0839,-311.028 322.5046,-316.0145\"/>\n<polygon fill=\"#000000\" stroke=\"#000000\" points=\"321.8185,-319.4547 332.3857,-318.6893 323.6477,-312.6979 321.8185,-319.4547\"/>\n<text text-anchor=\"middle\" x=\"310.7031\" y=\"-327.4338\" font-family=\"Times,serif\" font-size=\"14.00\" fill=\"#000000\">True</text>\n</g>\n<!-- 4 -->\n<g id=\"node5\" class=\"node\">\n<title>4</title>\n<polygon fill=\"#8139e5\" fill-opacity=\"0.019608\" stroke=\"#000000\" points=\"592.5,-216.8811 317.5,-216.8811 317.5,-148.8811 592.5,-148.8811 592.5,-216.8811\"/>\n<text text-anchor=\"start\" x=\"414.5\" y=\"-201.6811\" font-family=\"Times,serif\" font-size=\"14.00\" fill=\"#000000\">SL ≤ 9626.26</text>\n<text text-anchor=\"start\" x=\"418.5\" y=\"-186.6811\" font-family=\"Times,serif\" font-size=\"14.00\" fill=\"#000000\">gini = 0.802</text>\n<text text-anchor=\"start\" x=\"409.5\" y=\"-171.6811\" font-family=\"Times,serif\" font-size=\"14.00\" fill=\"#000000\">samples = 6857</text>\n<text text-anchor=\"start\" x=\"325.5\" y=\"-156.6811\" font-family=\"Times,serif\" font-size=\"14.00\" fill=\"#000000\">value = [1227, 260, 1286, 1609, 1702, 773]</text>\n</g>\n<!-- 0&#45;&gt;4 -->\n<g id=\"edge4\" class=\"edge\">\n<title>0&#45;&gt;4</title>\n<path fill=\"none\" stroke=\"#000000\" d=\"M268.2632,-232.8362C284.6768,-228.4453 301.5405,-223.934 318.1009,-219.5038\"/>\n<polygon fill=\"#000000\" stroke=\"#000000\" points=\"319.0549,-222.8718 327.8106,-216.9063 317.2458,-216.1095 319.0549,-222.8718\"/>\n<text text-anchor=\"middle\" x=\"306.1651\" y=\"-200.6975\" font-family=\"Times,serif\" font-size=\"14.00\" fill=\"#000000\">False</text>\n</g>\n<!-- 2 -->\n<g id=\"node3\" class=\"node\">\n<title>2</title>\n<polygon fill=\"#e58139\" fill-opacity=\"0.941176\" stroke=\"#000000\" points=\"843.5,-503.3811 666.5,-503.3811 666.5,-450.3811 843.5,-450.3811 843.5,-503.3811\"/>\n<text text-anchor=\"start\" x=\"718.5\" y=\"-488.1811\" font-family=\"Times,serif\" font-size=\"14.00\" fill=\"#000000\">gini = 0.109</text>\n<text text-anchor=\"start\" x=\"713\" y=\"-473.1811\" font-family=\"Times,serif\" font-size=\"14.00\" fill=\"#000000\">samples = 300</text>\n<text text-anchor=\"start\" x=\"674.5\" y=\"-458.1811\" font-family=\"Times,serif\" font-size=\"14.00\" fill=\"#000000\">value = [283, 0, 1, 1, 10, 5]</text>\n</g>\n<!-- 1&#45;&gt;2 -->\n<g id=\"edge2\" class=\"edge\">\n<title>1&#45;&gt;2</title>\n<path fill=\"none\" stroke=\"#000000\" d=\"M536.9763,-386.0379C582.2316,-404.8943 637.9674,-428.1175 681.7568,-446.3631\"/>\n<polygon fill=\"#000000\" stroke=\"#000000\" points=\"680.6172,-449.6799 691.1942,-450.2953 683.3096,-443.2184 680.6172,-449.6799\"/>\n</g>\n<!-- 3 -->\n<g id=\"node4\" class=\"node\">\n<title>3</title>\n<polygon fill=\"#e58139\" fill-opacity=\"0.301961\" stroke=\"#000000\" points=\"877.5,-364.3811 632.5,-364.3811 632.5,-311.3811 877.5,-311.3811 877.5,-364.3811\"/>\n<text text-anchor=\"start\" x=\"722.5\" y=\"-349.1811\" font-family=\"Times,serif\" font-size=\"14.00\" fill=\"#000000\">gini = 0.72</text>\n<text text-anchor=\"start\" x=\"709.5\" y=\"-334.1811\" font-family=\"Times,serif\" font-size=\"14.00\" fill=\"#000000\">samples = 3327</text>\n<text text-anchor=\"start\" x=\"640.5\" y=\"-319.1811\" font-family=\"Times,serif\" font-size=\"14.00\" fill=\"#000000\">value = [1481, 49, 321, 676, 502, 298]</text>\n</g>\n<!-- 1&#45;&gt;3 -->\n<g id=\"edge3\" class=\"edge\">\n<title>1&#45;&gt;3</title>\n<path fill=\"none\" stroke=\"#000000\" d=\"M577.8871,-346.1464C592.4807,-345.4653 607.4286,-344.7678 622.153,-344.0806\"/>\n<polygon fill=\"#000000\" stroke=\"#000000\" points=\"622.4781,-347.5694 632.304,-343.6069 622.1517,-340.577 622.4781,-347.5694\"/>\n</g>\n<!-- 5 -->\n<g id=\"node6\" class=\"node\">\n<title>5</title>\n<polygon fill=\"#39e581\" fill-opacity=\"0.168627\" stroke=\"#000000\" points=\"877.5,-217.3811 632.5,-217.3811 632.5,-164.3811 877.5,-164.3811 877.5,-217.3811\"/>\n<text text-anchor=\"start\" x=\"718.5\" y=\"-202.1811\" font-family=\"Times,serif\" font-size=\"14.00\" fill=\"#000000\">gini = 0.799</text>\n<text text-anchor=\"start\" x=\"709.5\" y=\"-187.1811\" font-family=\"Times,serif\" font-size=\"14.00\" fill=\"#000000\">samples = 2538</text>\n<text text-anchor=\"start\" x=\"640.5\" y=\"-172.1811\" font-family=\"Times,serif\" font-size=\"14.00\" fill=\"#000000\">value = [452, 205, 801, 384, 435, 261]</text>\n</g>\n<!-- 4&#45;&gt;5 -->\n<g id=\"edge5\" class=\"edge\">\n<title>4&#45;&gt;5</title>\n<path fill=\"none\" stroke=\"#000000\" d=\"M592.7076,-186.5533C602.5392,-186.8155 612.4418,-187.0796 622.2448,-187.341\"/>\n<polygon fill=\"#000000\" stroke=\"#000000\" points=\"622.3275,-190.8443 632.4173,-187.6122 622.5142,-183.8468 622.3275,-190.8443\"/>\n</g>\n<!-- 6 -->\n<g id=\"node7\" class=\"node\">\n<title>6</title>\n<polygon fill=\"#8139e5\" fill-opacity=\"0.011765\" stroke=\"#000000\" points=\"881,-78.3811 629,-78.3811 629,-25.3811 881,-25.3811 881,-78.3811\"/>\n<text text-anchor=\"start\" x=\"718.5\" y=\"-63.1811\" font-family=\"Times,serif\" font-size=\"14.00\" fill=\"#000000\">gini = 0.774</text>\n<text text-anchor=\"start\" x=\"709.5\" y=\"-48.1811\" font-family=\"Times,serif\" font-size=\"14.00\" fill=\"#000000\">samples = 4319</text>\n<text text-anchor=\"start\" x=\"637\" y=\"-33.1811\" font-family=\"Times,serif\" font-size=\"14.00\" fill=\"#000000\">value = [775, 55, 485, 1225, 1267, 512]</text>\n</g>\n<!-- 4&#45;&gt;6 -->\n<g id=\"edge6\" class=\"edge\">\n<title>4&#45;&gt;6</title>\n<path fill=\"none\" stroke=\"#000000\" d=\"M533.0383,-148.8044C579.978,-128.3074 639.2389,-102.4301 684.7184,-82.5707\"/>\n<polygon fill=\"#000000\" stroke=\"#000000\" points=\"686.1496,-85.765 693.9134,-78.5556 683.3483,-79.3499 686.1496,-85.765\"/>\n</g>\n</g>\n</svg>\n"
          },
          "metadata": {
            "tags": []
          }
        }
      ]
    },
    {
      "cell_type": "markdown",
      "metadata": {
        "id": "ad3pLusUw54v",
        "colab_type": "text"
      },
      "source": [
        "## Parameters tuning\n"
      ]
    },
    {
      "cell_type": "markdown",
      "metadata": {
        "id": "4k3kqC6mj9fe",
        "colab_type": "text"
      },
      "source": [
        "Построим базовую модель случайного леса, которую в дальнейшем будем улучшать, добавляя дополнительные гиперпараметры."
      ]
    },
    {
      "cell_type": "code",
      "metadata": {
        "id": "R4JFuYnirgYD",
        "colab_type": "code",
        "outputId": "4e08edb3-50c9-4894-824c-64f8a82e04f0",
        "colab": {
          "base_uri": "https://localhost:8080/",
          "height": 34
        }
      },
      "source": [
        "rf = RandomForestClassifier(n_jobs=-1)\n",
        "rf.fit(X_train,y_train)\n",
        "print_score(rf)"
      ],
      "execution_count": 0,
      "outputs": [
        {
          "output_type": "stream",
          "text": [
            "[0.9876955360549409, 0.7584891262876765]\n"
          ],
          "name": "stdout"
        }
      ]
    },
    {
      "cell_type": "markdown",
      "metadata": {
        "id": "Ct7HkdmOw84y",
        "colab_type": "text"
      },
      "source": [
        "Один из параметров случайного леса — количество деревьев, используемых в бэггинге. Для выбора правильного количества деревьев можно оценить, как влияет этот параметр на финальное качество модели. Для этого обучим разные леса с разным количеством деревьев."
      ]
    },
    {
      "cell_type": "code",
      "metadata": {
        "id": "8OfcMRyorgYk",
        "colab_type": "code",
        "outputId": "17024d0d-0c7a-4344-b20a-4ff394893f71",
        "colab": {
          "base_uri": "https://localhost:8080/",
          "height": 283
        }
      },
      "source": [
        "estimators = np.arange(1, 15)\n",
        "train_scores = []\n",
        "valid_scores = []\n",
        "\n",
        "for e in estimators:\n",
        "    rf = RandomForestClassifier(n_jobs=-1, n_estimators=e)\n",
        "    rf.fit(X_train, y_train)\n",
        "    accuracy_scores(rf)\n",
        "    \n",
        "plot_accuracy_models(estimators, train_scores, valid_scores)"
      ],
      "execution_count": 0,
      "outputs": [
        {
          "output_type": "display_data",
          "data": {
            "image/png": "[encoded data removed]",
            "text/plain": [
              "<Figure size 432x288 with 1 Axes>"
            ]
          },
          "metadata": {
            "tags": []
          }
        }
      ]
    },
    {
      "cell_type": "markdown",
      "metadata": {
        "id": "Ih-Ir0Ir5PNw",
        "colab_type": "text"
      },
      "source": [
        "Был построен график, отражающий зависимость accuracy модели от количества деревьев, на котором можно заметить, что после примерно 30 деревьев качество модели не изменяется, поэтому выберем n_estimators = 30."
      ]
    },
    {
      "cell_type": "code",
      "metadata": {
        "id": "cMO2ZvwxrgYo",
        "colab_type": "code",
        "outputId": "aa2a54a2-c69b-46b4-bcdd-8f335b70ac41",
        "colab": {
          "base_uri": "https://localhost:8080/",
          "height": 34
        }
      },
      "source": [
        "rf = RandomForestClassifier(n_estimators=20, n_jobs=-1)\n",
        "rf.fit(X_train, y_train)\n",
        "print_score(rf)"
      ],
      "execution_count": 0,
      "outputs": [
        {
          "output_type": "stream",
          "text": [
            "[0.9963754292254865, 0.769172071728348]\n"
          ],
          "name": "stdout"
        }
      ]
    },
    {
      "cell_type": "code",
      "metadata": {
        "id": "-RHfLhMsrgY0",
        "colab_type": "code",
        "outputId": "0961e3ab-fedf-4aef-caca-69825105b54a",
        "colab": {
          "base_uri": "https://localhost:8080/",
          "height": 34
        }
      },
      "source": [
        "rf = RandomForestClassifier(n_estimators=15, n_jobs=-1)\n",
        "rf.fit(X_train, y_train)\n",
        "print_score(rf)"
      ],
      "execution_count": 0,
      "outputs": [
        {
          "output_type": "stream",
          "text": [
            "[0.9938000763067532, 0.7619229301793209]\n"
          ],
          "name": "stdout"
        }
      ]
    },
    {
      "cell_type": "code",
      "metadata": {
        "id": "LZ5sFcX-VgGr",
        "colab_type": "code",
        "outputId": "5b088cd9-3655-4869-bebf-c9cd5741dad5",
        "colab": {
          "base_uri": "https://localhost:8080/",
          "height": 34
        }
      },
      "source": [
        "rf = RandomForestClassifier(n_estimators=10, n_jobs=-1)\n",
        "rf.fit(X_train, y_train)\n",
        "print_score(rf)"
      ],
      "execution_count": 0,
      "outputs": [
        {
          "output_type": "stream",
          "text": [
            "[0.9870278519648988, 0.7531476535673407]\n"
          ],
          "name": "stdout"
        }
      ]
    },
    {
      "cell_type": "markdown",
      "metadata": {
        "id": "orln_HEZowFe",
        "colab_type": "text"
      },
      "source": [
        "Еще одним параметром случайного леса является min_samples_leaf, который задает минимальное количество строк в узле. Попробуем изменить его количество."
      ]
    },
    {
      "cell_type": "code",
      "metadata": {
        "id": "OGycvIDCrgZU",
        "colab_type": "code",
        "outputId": "c83e10b7-08db-4e7e-f16e-c136846228db",
        "colab": {
          "base_uri": "https://localhost:8080/",
          "height": 34
        }
      },
      "source": [
        "rf = RandomForestClassifier(n_estimators=15, n_jobs=-1,  min_samples_leaf=3)\n",
        "rf.fit(X_train, y_train)\n",
        "print_score(rf)"
      ],
      "execution_count": 0,
      "outputs": [
        {
          "output_type": "stream",
          "text": [
            "[0.8994658527279664, 0.747806180847005]\n"
          ],
          "name": "stdout"
        }
      ]
    },
    {
      "cell_type": "markdown",
      "metadata": {
        "id": "EmdyqMIL7xnD",
        "colab_type": "text"
      },
      "source": [
        "Качество модели ухудшилось, поэтому оставим min_samples_leaf = 1. Следующий параметр max_depth представляет максимальную глубину каждого дерева. Чем глубже дерево, тем оно собирает больше информации о данных. Попробуем обучить лес c разным значением max_depth."
      ]
    },
    {
      "cell_type": "code",
      "metadata": {
        "id": "mb9VgFpJ9qPC",
        "colab_type": "code",
        "outputId": "8c21a2be-5cf3-4cef-d6fb-9d31007ff89b",
        "colab": {
          "base_uri": "https://localhost:8080/",
          "height": 283
        }
      },
      "source": [
        "max_depth = np.arange(1, 32)\n",
        "train_scores = []\n",
        "valid_scores = []\n",
        "\n",
        "for d in max_depth:\n",
        "    rf = RandomForestClassifier(n_estimators=15, n_jobs=-1, max_depth=d)\n",
        "    rf.fit(X_train, y_train)\n",
        "    accuracy_scores(rf)\n",
        "    \n",
        "plot_accuracy_models(max_depth, train_scores, valid_scores)"
      ],
      "execution_count": 0,
      "outputs": [
        {
          "output_type": "display_data",
          "data": {
            "image/png": "[encoded data removed]",
            "text/plain": [
              "<Figure size 432x288 with 1 Axes>"
            ]
          },
          "metadata": {
            "tags": []
          }
        }
      ]
    },
    {
      "cell_type": "markdown",
      "metadata": {
        "id": "WXp2Hzj2-vXC",
        "colab_type": "text"
      },
      "source": [
        "Построенный график отражает зависимость качества модели от значения параметра max_depth. На графике видно, что после max_depth = 15 качество модели почти не менятся, попробуем обучить модель с max_depth = 15"
      ]
    },
    {
      "cell_type": "code",
      "metadata": {
        "id": "cTueqF3Z_Krs",
        "colab_type": "code",
        "outputId": "a322ec6e-f407-49fa-f369-fdd2a88da416",
        "colab": {
          "base_uri": "https://localhost:8080/",
          "height": 34
        }
      },
      "source": [
        "rf = RandomForestClassifier(n_estimators=15, n_jobs=-1,  max_depth=15)\n",
        "rf.fit(X_train, y_train)\n",
        "print_score(rf)"
      ],
      "execution_count": 0,
      "outputs": [
        {
          "output_type": "stream",
          "text": [
            "[0.9270316673025563, 0.7523845860358642]\n"
          ],
          "name": "stdout"
        }
      ]
    },
    {
      "cell_type": "markdown",
      "metadata": {
        "id": "wNo6wE9XYioA",
        "colab_type": "text"
      },
      "source": [
        "Качество модели немного ухудшилось, попробуем изменить следующий параметр max_features, который определяет какое максимальное количество переменных, которые следует учитывать при поиске лучшего разделения."
      ]
    },
    {
      "cell_type": "code",
      "metadata": {
        "id": "-WS1CIuaZO5A",
        "colab_type": "code",
        "outputId": "6599c7aa-e13b-492e-e8e5-8ca8654d5aae",
        "colab": {
          "base_uri": "https://localhost:8080/",
          "height": 283
        }
      },
      "source": [
        "max_features = np.arange(1, X_train.shape[1] + 1)\n",
        "train_scores = []\n",
        "valid_scores = []\n",
        "\n",
        "for f in max_features:\n",
        "    rf = RandomForestClassifier(n_estimators=15, n_jobs=-1, max_features=f)\n",
        "    rf.fit(X_train, y_train)\n",
        "    accuracy_scores(rf)\n",
        "    \n",
        "plot_accuracy_models(max_features, train_scores, valid_scores)"
      ],
      "execution_count": 0,
      "outputs": [
        {
          "output_type": "display_data",
          "data": {
            "image/png": "[encoded data removed]",
            "text/plain": [
              "<Figure size 432x288 with 1 Axes>"
            ]
          },
          "metadata": {
            "tags": []
          }
        }
      ]
    },
    {
      "cell_type": "code",
      "metadata": {
        "id": "MfKhzqEmrgZq",
        "colab_type": "code",
        "outputId": "536add3e-57d2-4fa9-d9eb-7573740ff20d",
        "colab": {
          "base_uri": "https://localhost:8080/",
          "height": 34
        }
      },
      "source": [
        "m = RandomForestClassifier(n_estimators=15, n_jobs=-1, max_features=2)\n",
        "m.fit(X_train, y_train)\n",
        "print_score(m)"
      ],
      "execution_count": 0,
      "outputs": [
        {
          "output_type": "stream",
          "text": [
            "[0.9938954597481877, 0.7619229301793209]\n"
          ],
          "name": "stdout"
        }
      ]
    },
    {
      "cell_type": "markdown",
      "metadata": {
        "id": "BvGcYOaHato4",
        "colab_type": "text"
      },
      "source": [
        "В итоге изменение таких гиперпараметров, как max_features, max_depth, min_samples_leaf, не помогло улучшить качество модели."
      ]
    },
    {
      "cell_type": "code",
      "metadata": {
        "id": "GK2B1T16a02o",
        "colab_type": "code",
        "outputId": "3938dd4b-0201-4a4b-a413-0284deb798a5",
        "colab": {
          "base_uri": "https://localhost:8080/",
          "height": 34
        }
      },
      "source": [
        "rf = RandomForestClassifier(n_estimators=15, n_jobs=-1)\n",
        "rf.fit(X_train, y_train)\n",
        "print_score(rf)"
      ],
      "execution_count": 0,
      "outputs": [
        {
          "output_type": "stream",
          "text": [
            "[0.9943723769553605, 0.764975200305227]\n"
          ],
          "name": "stdout"
        }
      ]
    },
    {
      "cell_type": "code",
      "metadata": {
        "id": "VGE5slGXasty",
        "colab_type": "code",
        "outputId": "24f9a232-03de-4e17-bb34-5d9d858803e7",
        "colab": {
          "base_uri": "https://localhost:8080/",
          "height": 34
        }
      },
      "source": [
        "accuracy_score(y_test, rf.predict(X_test))"
      ],
      "execution_count": 0,
      "outputs": [
        {
          "output_type": "execute_result",
          "data": {
            "text/plain": [
              "0.7451937747940189"
            ]
          },
          "metadata": {
            "tags": []
          },
          "execution_count": 27
        }
      ]
    },
    {
      "cell_type": "markdown",
      "metadata": {
        "id": "QzSgFEo76g5t",
        "colab_type": "text"
      },
      "source": [
        "#KNN"
      ]
    },
    {
      "cell_type": "markdown",
      "metadata": {
        "id": "HkuaBp0cvfua",
        "colab_type": "text"
      },
      "source": [
        "Прежде всего для построения нейронной сети необходимо стандартизовать данные (для этого воспользуемся StandardScaler из sklearn), после этого среднее значение каждого столбца (объекта) в выборке было равно 0, а стандартное отклонение – 1. "
      ]
    },
    {
      "cell_type": "code",
      "metadata": {
        "id": "cmwSgIpuvTE2",
        "colab_type": "code",
        "colab": {}
      },
      "source": [
        "sc = StandardScaler()\n",
        "X_train = sc.fit_transform(X_train)\n",
        "X_valid = sc.transform(X_valid)\n",
        "X_test = sc.transform(X_test)"
      ],
      "execution_count": 0,
      "outputs": []
    },
    {
      "cell_type": "markdown",
      "metadata": {
        "id": "-ClOFCRzOZcz",
        "colab_type": "text"
      },
      "source": [
        "Построим базовую модель KNN."
      ]
    },
    {
      "cell_type": "code",
      "metadata": {
        "id": "MoEqowWlMpJy",
        "colab_type": "code",
        "outputId": "86e2a413-7885-4e76-e04d-bb0accf9a6fd",
        "colab": {
          "base_uri": "https://localhost:8080/",
          "height": 84
        }
      },
      "source": [
        "knn = KNeighborsClassifier()\n",
        "knn.fit(X_train, y_train)\n",
        "print_score(knn)\n",
        "knn"
      ],
      "execution_count": 0,
      "outputs": [
        {
          "output_type": "stream",
          "text": [
            "[0.7352155665776421, 0.6341091186570011]\n"
          ],
          "name": "stdout"
        },
        {
          "output_type": "execute_result",
          "data": {
            "text/plain": [
              "KNeighborsClassifier(algorithm='auto', leaf_size=30, metric='minkowski',\n",
              "                     metric_params=None, n_jobs=None, n_neighbors=5, p=2,\n",
              "                     weights='uniform')"
            ]
          },
          "metadata": {
            "tags": []
          },
          "execution_count": 10
        }
      ]
    },
    {
      "cell_type": "markdown",
      "metadata": {
        "id": "YxwlP-1Qj3Ks",
        "colab_type": "text"
      },
      "source": [
        "Поиск наилучших параметров для алгоритма KNN будет осуществляться через GridSearchCV. Осуществим поиск по параметрам: n_neighbors = 1, 3, 5, 7; weights = uniform, distance; metric = euclidean, manhattan, minkowski."
      ]
    },
    {
      "cell_type": "code",
      "metadata": {
        "id": "no3nYsmdWxn2",
        "colab_type": "code",
        "outputId": "3f77990e-c2a3-46ec-a804-57dd19d2ae9c",
        "colab": {
          "base_uri": "https://localhost:8080/",
          "height": 84
        }
      },
      "source": [
        "grid_params = {\n",
        "    'n_neighbors':[1, 3, 5, 7],\n",
        "    'weights': ['uniform', 'distance'],\n",
        "    'metric': ['euclidean', 'manhattan', 'minkowski']\n",
        "}\n",
        "\n",
        "gs = GridSearchCV(KNeighborsClassifier(), grid_params, cv =3)\n",
        "\n",
        "gs_result = gs.fit(X_train, y_train)\n",
        "\n",
        "print(gs_result.best_params_)\n",
        "print(gs_result.best_estimator_)"
      ],
      "execution_count": 0,
      "outputs": [
        {
          "output_type": "stream",
          "text": [
            "{'metric': 'manhattan', 'n_neighbors': 3, 'weights': 'uniform'}\n",
            "KNeighborsClassifier(algorithm='auto', leaf_size=30, metric='manhattan',\n",
            "                     metric_params=None, n_jobs=None, n_neighbors=3, p=2,\n",
            "                     weights='uniform')\n"
          ],
          "name": "stdout"
        }
      ]
    },
    {
      "cell_type": "code",
      "metadata": {
        "id": "n-oPpSwi_1fZ",
        "colab_type": "code",
        "outputId": "d14699d7-99ef-4d59-c1eb-ac8edc44360f",
        "colab": {
          "base_uri": "https://localhost:8080/",
          "height": 34
        }
      },
      "source": [
        "knn = KNeighborsClassifier(n_neighbors=3, metric='manhattan', weights='uniform')\n",
        "knn.fit(X_train, y_train)\n",
        "print_score(knn)"
      ],
      "execution_count": 0,
      "outputs": [
        {
          "output_type": "stream",
          "text": [
            "[0.8031285768790538, 0.6570011446012972]\n"
          ],
          "name": "stdout"
        }
      ]
    },
    {
      "cell_type": "code",
      "metadata": {
        "id": "ZgSQ3ctoQ1S7",
        "colab_type": "code",
        "outputId": "fb92649c-81d4-48aa-f28f-9875d017f601",
        "colab": {
          "base_uri": "https://localhost:8080/",
          "height": 34
        }
      },
      "source": [
        "accuracy_score(y_test, knn.predict(X_test))"
      ],
      "execution_count": 0,
      "outputs": [
        {
          "output_type": "execute_result",
          "data": {
            "text/plain": [
              "0.648764113518462"
            ]
          },
          "metadata": {
            "tags": []
          },
          "execution_count": 16
        }
      ]
    },
    {
      "cell_type": "markdown",
      "metadata": {
        "id": "aJfesdbWeDvd",
        "colab_type": "text"
      },
      "source": [
        "#Neural Network"
      ]
    },
    {
      "cell_type": "code",
      "metadata": {
        "id": "S26YsEWE7HO6",
        "colab_type": "code",
        "colab": {}
      },
      "source": [
        "def plot_accuracy_history(m):\n",
        "  plt.plot(model.history.history[\"acc\"], label='Train accuracy')\n",
        "  plt.plot(model.history.history[\"val_acc\"], label='Validation accuracy')\n",
        "  plt.legend(['train', 'valid'], loc='upper left')"
      ],
      "execution_count": 0,
      "outputs": []
    },
    {
      "cell_type": "code",
      "metadata": {
        "id": "aiTlh6K7-0pH",
        "colab_type": "code",
        "colab": {}
      },
      "source": [
        "def plot_loss_history(m):\n",
        "  plt.plot(model.history.history[\"loss\"])\n",
        "  plt.plot(model.history.history[\"val_loss\"])\n",
        "  plt.legend(['train', 'valid'], loc='upper right')"
      ],
      "execution_count": 0,
      "outputs": []
    },
    {
      "cell_type": "code",
      "metadata": {
        "id": "qh69nRrVtaNl",
        "colab_type": "code",
        "colab": {}
      },
      "source": [
        "def fitting_model(m, verbose=0):\n",
        "  model.compile(optimizer='adam', loss='categorical_crossentropy', metrics=['accuracy'])\n",
        "  model.fit(X_train,y_train, batch_size=10, epochs=100, validation_data=(X_valid, y_valid), verbose=verbose)\n",
        "  print (f'Accuracy (validation set): {model.evaluate(X_valid, y_valid, verbose=0)[1]}.')"
      ],
      "execution_count": 0,
      "outputs": []
    },
    {
      "cell_type": "markdown",
      "metadata": {
        "id": "bbjUrISvceM2",
        "colab_type": "text"
      },
      "source": [
        "Прежде всего для построения нейронной сети необходимо стандартизовать данные (для этого воспользуемся StandardScaler из sklearn), после этого среднее значение каждого столбца (объекта) в выборке было равно 0, а стандартное отклонение – 1. "
      ]
    },
    {
      "cell_type": "code",
      "metadata": {
        "id": "G-u_cB1oZxaB",
        "colab_type": "code",
        "colab": {}
      },
      "source": [
        "sc = StandardScaler()\n",
        "X_train = sc.fit_transform(X_train)\n",
        "X_valid = sc.transform(X_valid)\n",
        "X_test = sc.transform(X_test)"
      ],
      "execution_count": 0,
      "outputs": []
    },
    {
      "cell_type": "markdown",
      "metadata": {
        "id": "E7fJado85uhA",
        "colab_type": "text"
      },
      "source": [
        "Кроме того, поскольку будет использована категориальная кросс-энтропия в качестве функции потерь, то нужно преобразовать зависимую переменную, хранящую тип активности, в двоичную матрицу классов."
      ]
    },
    {
      "cell_type": "code",
      "metadata": {
        "id": "Ey_B_ftWD6i-",
        "colab_type": "code",
        "colab": {}
      },
      "source": [
        "y_train = to_categorical(y_train.values)\n",
        "y_valid = to_categorical(y_valid.values)\n",
        "y_test = to_categorical(y_test.values)"
      ],
      "execution_count": 0,
      "outputs": []
    },
    {
      "cell_type": "markdown",
      "metadata": {
        "id": "CJIdixCI2vmf",
        "colab_type": "text"
      },
      "source": [
        "Сначала начнем с базовой модели, а потом будем её улучшать на каждом этапе."
      ]
    },
    {
      "cell_type": "code",
      "metadata": {
        "id": "ae_pBHTp1y3N",
        "colab_type": "code",
        "outputId": "a4f71311-9521-4221-b0b5-d3ad18b31c4f",
        "colab": {
          "base_uri": "https://localhost:8080/",
          "height": 154
        }
      },
      "source": [
        "model = Sequential()\n",
        "model.add(Dense(6, input_dim=6,activation='softmax'))\n",
        "\n",
        "fitting_model(model)"
      ],
      "execution_count": 0,
      "outputs": [
        {
          "output_type": "stream",
          "text": [
            "WARNING:tensorflow:From /usr/local/lib/python3.6/dist-packages/tensorflow/python/framework/op_def_library.py:263: colocate_with (from tensorflow.python.framework.ops) is deprecated and will be removed in a future version.\n",
            "Instructions for updating:\n",
            "Colocations handled automatically by placer.\n",
            "WARNING:tensorflow:From /usr/local/lib/python3.6/dist-packages/tensorflow/python/ops/math_ops.py:3066: to_int32 (from tensorflow.python.ops.math_ops) is deprecated and will be removed in a future version.\n",
            "Instructions for updating:\n",
            "Use tf.cast instead.\n",
            "Accuracy (validation set): 0.38305990074436796.\n"
          ],
          "name": "stdout"
        }
      ]
    },
    {
      "cell_type": "markdown",
      "metadata": {
        "id": "-2Ca8Ici7GfW",
        "colab_type": "text"
      },
      "source": [
        "Попробуем построить 7 нейронных сетей, где с каждой новой сетью будем добавлять по одному слою и количество нейронов увеличивать на 6 "
      ]
    },
    {
      "cell_type": "code",
      "metadata": {
        "id": "g-gToU8k7lKv",
        "colab_type": "code",
        "outputId": "b04aa7b0-23ae-462d-c252-1d7661c7f817",
        "colab": {
          "base_uri": "https://localhost:8080/",
          "height": 34
        }
      },
      "source": [
        "model = Sequential()\n",
        "model.add(Dense(12, input_dim=6, activation='relu'))\n",
        "model.add(Dense(6, activation='softmax'))\n",
        "\n",
        "fitting_model(model)"
      ],
      "execution_count": 0,
      "outputs": [
        {
          "output_type": "stream",
          "text": [
            "Accuracy (validation set): 0.44067149941632877.\n"
          ],
          "name": "stdout"
        }
      ]
    },
    {
      "cell_type": "code",
      "metadata": {
        "id": "gEvMzMsD55mU",
        "colab_type": "code",
        "outputId": "2f7acb79-0d92-4cf8-9e73-57a3bc038b03",
        "colab": {
          "base_uri": "https://localhost:8080/",
          "height": 34
        }
      },
      "source": [
        "model = Sequential()\n",
        "model.add(Dense(18, input_dim=6, activation='relu'))\n",
        "model.add(Dense(12, activation='relu'))\n",
        "model.add(Dense(6, activation='softmax'))\n",
        "\n",
        "fitting_model(model)"
      ],
      "execution_count": 0,
      "outputs": [
        {
          "output_type": "stream",
          "text": [
            "Accuracy (validation set): 0.5165967185822028.\n"
          ],
          "name": "stdout"
        }
      ]
    },
    {
      "cell_type": "code",
      "metadata": {
        "id": "uuRpmsFa8kSf",
        "colab_type": "code",
        "outputId": "34ce496b-2c17-4182-b53d-1dc905f0b722",
        "colab": {
          "base_uri": "https://localhost:8080/",
          "height": 34
        }
      },
      "source": [
        "model = Sequential()\n",
        "model.add(Dense(24, input_dim=6, activation='relu'))\n",
        "model.add(Dense(18, activation='relu'))\n",
        "model.add(Dense(12, activation='relu'))\n",
        "model.add(Dense(6, activation='softmax'))\n",
        "\n",
        "fitting_model(model)"
      ],
      "execution_count": 0,
      "outputs": [
        {
          "output_type": "stream",
          "text": [
            "Accuracy (validation set): 0.5505532241422499.\n"
          ],
          "name": "stdout"
        }
      ]
    },
    {
      "cell_type": "code",
      "metadata": {
        "id": "u7iW6ZX8-oAT",
        "colab_type": "code",
        "outputId": "ab86aa1e-db80-4310-ab9d-0dbe5a6b6685",
        "colab": {
          "base_uri": "https://localhost:8080/",
          "height": 34
        }
      },
      "source": [
        "model = Sequential()\n",
        "model.add(Dense(30, input_dim=6, activation='relu'))\n",
        "model.add(Dense(24, activation='relu'))\n",
        "model.add(Dense(18, activation='relu'))\n",
        "model.add(Dense(12, activation='relu'))\n",
        "model.add(Dense(6, activation='softmax'))\n",
        "\n",
        "fitting_model(model)"
      ],
      "execution_count": 0,
      "outputs": [
        {
          "output_type": "stream",
          "text": [
            "Accuracy (validation set): 0.5963372757806891.\n"
          ],
          "name": "stdout"
        }
      ]
    },
    {
      "cell_type": "code",
      "metadata": {
        "id": "uK0AxwwJdOCC",
        "colab_type": "code",
        "outputId": "06f7be5d-e184-41b5-d641-599da0ccf8ed",
        "colab": {
          "base_uri": "https://localhost:8080/",
          "height": 104
        }
      },
      "source": [
        "model = Sequential()\n",
        "model.add(Dense(36, input_dim=6, activation='relu'))\n",
        "model.add(Dense(30, activation='relu'))\n",
        "model.add(Dense(24, activation='relu'))\n",
        "model.add(Dense(18, activation='relu'))\n",
        "model.add(Dense(12, activation='relu'))\n",
        "model.add(Dense(6, activation='softmax'))\n",
        "\n",
        "fitting_model(model)"
      ],
      "execution_count": 0,
      "outputs": [
        {
          "output_type": "stream",
          "text": [
            "WARNING:tensorflow:From /usr/local/lib/python3.6/dist-packages/tensorflow/python/ops/math_ops.py:3066: to_int32 (from tensorflow.python.ops.math_ops) is deprecated and will be removed in a future version.\n",
            "Instructions for updating:\n",
            "Use tf.cast instead.\n",
            "Accuracy (validation set): 0.629530713604589.\n"
          ],
          "name": "stdout"
        }
      ]
    },
    {
      "cell_type": "code",
      "metadata": {
        "id": "N18ixAcc70hc",
        "colab_type": "code",
        "outputId": "ceb163f9-00d2-471f-ffad-f86aca48f9bd",
        "colab": {
          "base_uri": "https://localhost:8080/",
          "height": 269
        }
      },
      "source": [
        "plot_accuracy_history(model)"
      ],
      "execution_count": 0,
      "outputs": [
        {
          "output_type": "display_data",
          "data": {
            "image/png": "[encoded data removed]",
            "text/plain": [
              "<Figure size 432x288 with 1 Axes>"
            ]
          },
          "metadata": {
            "tags": []
          }
        }
      ]
    },
    {
      "cell_type": "code",
      "metadata": {
        "id": "61jEjtV0ZNBS",
        "colab_type": "code",
        "outputId": "86ad4315-dab6-43ee-f216-03136139bfb8",
        "colab": {
          "base_uri": "https://localhost:8080/",
          "height": 269
        }
      },
      "source": [
        "plot_loss_history(model)"
      ],
      "execution_count": 0,
      "outputs": [
        {
          "output_type": "display_data",
          "data": {
            "image/png": "[encoded data removed]",
            "text/plain": [
              "<Figure size 432x288 with 1 Axes>"
            ]
          },
          "metadata": {
            "tags": []
          }
        }
      ]
    },
    {
      "cell_type": "code",
      "metadata": {
        "id": "7l6-XseimVgS",
        "colab_type": "code",
        "outputId": "c458c467-795c-49cd-ca3c-4f282d497ba8",
        "colab": {
          "base_uri": "https://localhost:8080/",
          "height": 34
        }
      },
      "source": [
        "model = Sequential()\n",
        "model.add(Dense(42, input_dim=6, activation='relu'))\n",
        "model.add(Dense(36, activation='relu'))\n",
        "model.add(Dense(30, activation='relu'))\n",
        "model.add(Dense(24, activation='relu'))\n",
        "model.add(Dense(18, activation='relu'))\n",
        "model.add(Dense(12, activation='relu'))\n",
        "model.add(Dense(6, activation='softmax'))\n",
        "\n",
        "fitting_model(model)"
      ],
      "execution_count": 0,
      "outputs": [
        {
          "output_type": "stream",
          "text": [
            "Accuracy (validation set): 0.6611980161608653.\n"
          ],
          "name": "stdout"
        }
      ]
    },
    {
      "cell_type": "markdown",
      "metadata": {
        "id": "R55VhfhrV2bU",
        "colab_type": "text"
      },
      "source": [
        "Возможно, для того чтобы улучшить качество модели, необходимо увеличить количество нейронов в каждом слое. Следующая построенная нейронная сеть, состоящая из 5 слоев (количество нейронов – 128, 64, 32, 16, 6), показала немного лучше результат – 0,64. Попробуем построить еще несколько нейронных сетей с похожей архитектурой, увеличивая каждый раз количество нейронов в два раза. "
      ]
    },
    {
      "cell_type": "code",
      "metadata": {
        "id": "8RqsTVkjtyHD",
        "colab_type": "code",
        "outputId": "6f9cf573-2ca5-46ca-ba4f-59a14769e4be",
        "colab": {
          "base_uri": "https://localhost:8080/",
          "height": 34
        }
      },
      "source": [
        "model = Sequential()\n",
        "model.add(Dense(128, input_dim=6, activation='relu'))\n",
        "model.add(Dense(64, activation='relu'))\n",
        "model.add(Dense(32, activation='relu'))\n",
        "model.add(Dense(16, activation='relu'))\n",
        "model.add(Dense(6, activation='softmax'))\n",
        "\n",
        "fitting_model(model)"
      ],
      "execution_count": 0,
      "outputs": [
        {
          "output_type": "stream",
          "text": [
            "Accuracy (validation set): 0.6550934756589.\n"
          ],
          "name": "stdout"
        }
      ]
    },
    {
      "cell_type": "code",
      "metadata": {
        "id": "g0qJ6xbx09LV",
        "colab_type": "code",
        "outputId": "78223d86-8284-4c67-f760-d15182605421",
        "colab": {
          "base_uri": "https://localhost:8080/",
          "height": 34
        }
      },
      "source": [
        "model = Sequential()\n",
        "model.add(Dense(256, input_dim=6, activation='relu'))\n",
        "model.add(Dense(128, activation='relu'))\n",
        "model.add(Dense(64, activation='relu'))\n",
        "model.add(Dense(32, activation='relu'))\n",
        "model.add(Dense(6, activation='softmax'))\n",
        "\n",
        "fitting_model(model)"
      ],
      "execution_count": 0,
      "outputs": [
        {
          "output_type": "stream",
          "text": [
            "Accuracy (validation set): 0.6737886302710399.\n"
          ],
          "name": "stdout"
        }
      ]
    },
    {
      "cell_type": "code",
      "metadata": {
        "id": "VKo0Bam5Z_TU",
        "colab_type": "code",
        "outputId": "9b9f59c8-cd51-4c7d-a04b-2b6d3cf1cc2e",
        "colab": {
          "base_uri": "https://localhost:8080/",
          "height": 34
        }
      },
      "source": [
        "model = Sequential()\n",
        "model.add(Dense(512, input_dim=6, activation='relu'))\n",
        "model.add(Dense(256, activation='relu'))\n",
        "model.add(Dense(128, activation='relu'))\n",
        "model.add(Dense(64, activation='relu'))\n",
        "model.add(Dense(6, activation='softmax'))\n",
        "\n",
        "fitting_model(model)"
      ],
      "execution_count": 0,
      "outputs": [
        {
          "output_type": "stream",
          "text": [
            "Accuracy (validation set): 0.6917207174199267.\n"
          ],
          "name": "stdout"
        }
      ]
    },
    {
      "cell_type": "code",
      "metadata": {
        "id": "iKF1fizKZVf3",
        "colab_type": "code",
        "outputId": "9d5d3823-2772-4e83-d17c-0a94f98bdcb3",
        "colab": {
          "base_uri": "https://localhost:8080/",
          "height": 269
        }
      },
      "source": [
        "plot_accuracy_history(model)"
      ],
      "execution_count": 0,
      "outputs": [
        {
          "output_type": "display_data",
          "data": {
            "image/png": "[encoded data removed]",
            "text/plain": [
              "<Figure size 432x288 with 1 Axes>"
            ]
          },
          "metadata": {
            "tags": []
          }
        }
      ]
    },
    {
      "cell_type": "code",
      "metadata": {
        "id": "sbZzzns_ZVlz",
        "colab_type": "code",
        "outputId": "87b25092-9a9a-4fb9-ba37-001036ab471d",
        "colab": {
          "base_uri": "https://localhost:8080/",
          "height": 269
        }
      },
      "source": [
        "plot_loss_history(model)"
      ],
      "execution_count": 0,
      "outputs": [
        {
          "output_type": "display_data",
          "data": {
            "image/png": "[encoded data removed]",
            "text/plain": [
              "<Figure size 432x288 with 1 Axes>"
            ]
          },
          "metadata": {
            "tags": []
          }
        }
      ]
    },
    {
      "cell_type": "code",
      "metadata": {
        "id": "eNDMwfOtt-dL",
        "colab_type": "code",
        "outputId": "534aab24-1c43-42bc-c85b-da8313c2adca",
        "colab": {
          "base_uri": "https://localhost:8080/",
          "height": 104
        }
      },
      "source": [
        "model = Sequential()\n",
        "model.add(Dense(512, input_dim=6, activation='relu'))\n",
        "model.add(Dense(256, activation='relu'))\n",
        "model.add(Dropout(0.1))\n",
        "model.add(Dense(128, activation='relu'))\n",
        "model.add(Dense(64, activation='relu'))\n",
        "model.add(Dense(6, activation='softmax'))\n",
        "\n",
        "fitting_model(model)"
      ],
      "execution_count": 0,
      "outputs": [
        {
          "output_type": "stream",
          "text": [
            "WARNING:tensorflow:From /usr/local/lib/python3.6/dist-packages/keras/backend/tensorflow_backend.py:3445: calling dropout (from tensorflow.python.ops.nn_ops) with keep_prob is deprecated and will be removed in a future version.\n",
            "Instructions for updating:\n",
            "Please use `rate` instead of `keep_prob`. Rate should be set to `rate = 1 - keep_prob`.\n",
            "Accuracy (validation set): 0.6821823728671287.\n"
          ],
          "name": "stdout"
        }
      ]
    },
    {
      "cell_type": "code",
      "metadata": {
        "id": "Fz65bJhpZaq3",
        "colab_type": "code",
        "outputId": "83357c3e-db28-4ec8-9279-b0e16b62aa7d",
        "colab": {
          "base_uri": "https://localhost:8080/",
          "height": 269
        }
      },
      "source": [
        "plot_accuracy_history(model)"
      ],
      "execution_count": 0,
      "outputs": [
        {
          "output_type": "display_data",
          "data": {
            "image/png": "[encoded data removed]",
            "text/plain": [
              "<Figure size 432x288 with 1 Axes>"
            ]
          },
          "metadata": {
            "tags": []
          }
        }
      ]
    },
    {
      "cell_type": "code",
      "metadata": {
        "id": "kr35FOxBZauE",
        "colab_type": "code",
        "outputId": "603636cc-4dfc-493d-93b4-6b0d96132e5a",
        "colab": {
          "base_uri": "https://localhost:8080/",
          "height": 269
        }
      },
      "source": [
        "plot_loss_history(model)"
      ],
      "execution_count": 0,
      "outputs": [
        {
          "output_type": "display_data",
          "data": {
            "image/png": "[encoded data removed]",
            "text/plain": [
              "<Figure size 432x288 with 1 Axes>"
            ]
          },
          "metadata": {
            "tags": []
          }
        }
      ]
    },
    {
      "cell_type": "code",
      "metadata": {
        "id": "YQg-kNMlf2kw",
        "colab_type": "code",
        "outputId": "75faf27e-94d5-4ae7-eef5-fe735cab2a4d",
        "colab": {
          "base_uri": "https://localhost:8080/",
          "height": 6770
        }
      },
      "source": [
        "model = Sequential()\n",
        "model.add(Dense(512, input_dim=6, activation='relu'))\n",
        "model.add(Dense(256, activation='relu'))\n",
        "model.add(BatchNormalization())\n",
        "model.add(Dropout(0.1))\n",
        "model.add(Dense(128, activation='relu'))\n",
        "model.add(Dense(64, activation='relu'))\n",
        "model.add(Dense(6, activation='softmax'))\n",
        "\n",
        "model.compile(optimizer='adam', loss='categorical_crossentropy', metrics=['accuracy'])\n",
        "model.fit(X_train,y_train, batch_size=10, epochs=200, validation_data=(X_valid, y_valid))\n",
        "print (f'Accuracy (validation set): {model.evaluate(X_valid, y_valid, verbose=0)[1]}.')"
      ],
      "execution_count": 0,
      "outputs": [
        {
          "output_type": "stream",
          "text": [
            "Train on 10484 samples, validate on 2621 samples\n",
            "Epoch 1/200\n",
            "10484/10484 [==============================] - 7s 637us/step - loss: 1.5620 - acc: 0.3380 - val_loss: 1.4699 - val_acc: 0.3926\n",
            "Epoch 2/200\n",
            "10484/10484 [==============================] - 6s 580us/step - loss: 1.4680 - acc: 0.3877 - val_loss: 1.4466 - val_acc: 0.4033\n",
            "Epoch 3/200\n",
            "10484/10484 [==============================] - 6s 578us/step - loss: 1.3899 - acc: 0.4231 - val_loss: 1.3944 - val_acc: 0.4014\n",
            "Epoch 4/200\n",
            "10484/10484 [==============================] - 6s 617us/step - loss: 1.3341 - acc: 0.4564 - val_loss: 1.3317 - val_acc: 0.4746\n",
            "Epoch 5/200\n",
            "10484/10484 [==============================] - 7s 638us/step - loss: 1.2874 - acc: 0.4807 - val_loss: 1.2829 - val_acc: 0.4826\n",
            "Epoch 6/200\n",
            "10484/10484 [==============================] - 6s 578us/step - loss: 1.2727 - acc: 0.4778 - val_loss: 1.2452 - val_acc: 0.4914\n",
            "Epoch 7/200\n",
            "10484/10484 [==============================] - 6s 582us/step - loss: 1.2454 - acc: 0.4960 - val_loss: 1.2060 - val_acc: 0.5235\n",
            "Epoch 8/200\n",
            "10484/10484 [==============================] - 6s 577us/step - loss: 1.2234 - acc: 0.5064 - val_loss: 1.2410 - val_acc: 0.4994\n",
            "Epoch 9/200\n",
            "10484/10484 [==============================] - 6s 575us/step - loss: 1.2017 - acc: 0.5165 - val_loss: 1.1793 - val_acc: 0.5208\n",
            "Epoch 10/200\n",
            "10484/10484 [==============================] - 6s 576us/step - loss: 1.1787 - acc: 0.5297 - val_loss: 1.1609 - val_acc: 0.5273\n",
            "Epoch 11/200\n",
            "10484/10484 [==============================] - 6s 577us/step - loss: 1.1698 - acc: 0.5301 - val_loss: 1.1383 - val_acc: 0.5528\n",
            "Epoch 12/200\n",
            "10484/10484 [==============================] - 6s 580us/step - loss: 1.1449 - acc: 0.5425 - val_loss: 1.1550 - val_acc: 0.5372\n",
            "Epoch 13/200\n",
            "10484/10484 [==============================] - 6s 580us/step - loss: 1.1349 - acc: 0.5481 - val_loss: 1.1363 - val_acc: 0.5403\n",
            "Epoch 14/200\n",
            "10484/10484 [==============================] - 6s 577us/step - loss: 1.1280 - acc: 0.5465 - val_loss: 1.1597 - val_acc: 0.5444\n",
            "Epoch 15/200\n",
            "10484/10484 [==============================] - 6s 582us/step - loss: 1.1151 - acc: 0.5566 - val_loss: 1.1602 - val_acc: 0.5498\n",
            "Epoch 16/200\n",
            "10484/10484 [==============================] - 6s 577us/step - loss: 1.1006 - acc: 0.5642 - val_loss: 1.1257 - val_acc: 0.5620\n",
            "Epoch 17/200\n",
            "10484/10484 [==============================] - 6s 612us/step - loss: 1.0894 - acc: 0.5641 - val_loss: 1.1247 - val_acc: 0.5685\n",
            "Epoch 18/200\n",
            "10484/10484 [==============================] - 7s 644us/step - loss: 1.0838 - acc: 0.5714 - val_loss: 1.0842 - val_acc: 0.5750\n",
            "Epoch 19/200\n",
            "10484/10484 [==============================] - 6s 574us/step - loss: 1.0663 - acc: 0.5816 - val_loss: 1.0926 - val_acc: 0.5731\n",
            "Epoch 20/200\n",
            "10484/10484 [==============================] - 6s 578us/step - loss: 1.0685 - acc: 0.5833 - val_loss: 1.0344 - val_acc: 0.5937\n",
            "Epoch 21/200\n",
            "10484/10484 [==============================] - 6s 577us/step - loss: 1.0610 - acc: 0.5824 - val_loss: 1.0662 - val_acc: 0.5845\n",
            "Epoch 22/200\n",
            "10484/10484 [==============================] - 6s 576us/step - loss: 1.0593 - acc: 0.5816 - val_loss: 1.0348 - val_acc: 0.5940\n",
            "Epoch 23/200\n",
            "10484/10484 [==============================] - 6s 580us/step - loss: 1.0505 - acc: 0.5850 - val_loss: 1.0643 - val_acc: 0.5765\n",
            "Epoch 24/200\n",
            "10484/10484 [==============================] - 6s 576us/step - loss: 1.0390 - acc: 0.5928 - val_loss: 1.0275 - val_acc: 0.5986\n",
            "Epoch 25/200\n",
            "10484/10484 [==============================] - 6s 581us/step - loss: 1.0334 - acc: 0.5902 - val_loss: 1.0873 - val_acc: 0.5658\n",
            "Epoch 26/200\n",
            "10484/10484 [==============================] - 6s 578us/step - loss: 1.0233 - acc: 0.5985 - val_loss: 1.0200 - val_acc: 0.5994\n",
            "Epoch 27/200\n",
            "10484/10484 [==============================] - 6s 577us/step - loss: 1.0187 - acc: 0.6019 - val_loss: 1.0624 - val_acc: 0.5887\n",
            "Epoch 28/200\n",
            "10484/10484 [==============================] - 6s 578us/step - loss: 1.0014 - acc: 0.6098 - val_loss: 1.0744 - val_acc: 0.5826\n",
            "Epoch 29/200\n",
            "10484/10484 [==============================] - 6s 579us/step - loss: 1.0039 - acc: 0.6052 - val_loss: 1.0993 - val_acc: 0.5742\n",
            "Epoch 30/200\n",
            "10484/10484 [==============================] - 6s 606us/step - loss: 0.9936 - acc: 0.6081 - val_loss: 1.0254 - val_acc: 0.6017\n",
            "Epoch 31/200\n",
            "10484/10484 [==============================] - 7s 647us/step - loss: 0.9895 - acc: 0.6126 - val_loss: 1.0716 - val_acc: 0.5845\n",
            "Epoch 32/200\n",
            "10484/10484 [==============================] - 6s 584us/step - loss: 0.9892 - acc: 0.6093 - val_loss: 1.0082 - val_acc: 0.6074\n",
            "Epoch 33/200\n",
            "10484/10484 [==============================] - 6s 577us/step - loss: 0.9798 - acc: 0.6129 - val_loss: 0.9835 - val_acc: 0.6204\n",
            "Epoch 34/200\n",
            "10484/10484 [==============================] - 6s 575us/step - loss: 0.9903 - acc: 0.6123 - val_loss: 0.9673 - val_acc: 0.6345\n",
            "Epoch 35/200\n",
            "10484/10484 [==============================] - 6s 576us/step - loss: 0.9880 - acc: 0.6160 - val_loss: 1.0474 - val_acc: 0.6024\n",
            "Epoch 36/200\n",
            "10484/10484 [==============================] - 6s 576us/step - loss: 0.9733 - acc: 0.6205 - val_loss: 0.9748 - val_acc: 0.6230\n",
            "Epoch 37/200\n",
            "10484/10484 [==============================] - 6s 575us/step - loss: 0.9678 - acc: 0.6196 - val_loss: 1.0032 - val_acc: 0.6188\n",
            "Epoch 38/200\n",
            "10484/10484 [==============================] - 6s 578us/step - loss: 0.9555 - acc: 0.6276 - val_loss: 1.0153 - val_acc: 0.6028\n",
            "Epoch 39/200\n",
            "10484/10484 [==============================] - 6s 578us/step - loss: 0.9586 - acc: 0.6281 - val_loss: 0.9848 - val_acc: 0.6223\n",
            "Epoch 40/200\n",
            "10484/10484 [==============================] - 6s 577us/step - loss: 0.9394 - acc: 0.6261 - val_loss: 0.9592 - val_acc: 0.6333\n",
            "Epoch 41/200\n",
            "10484/10484 [==============================] - 6s 575us/step - loss: 0.9493 - acc: 0.6320 - val_loss: 1.0098 - val_acc: 0.6131\n",
            "Epoch 42/200\n",
            "10484/10484 [==============================] - 6s 579us/step - loss: 0.9467 - acc: 0.6252 - val_loss: 1.0124 - val_acc: 0.6154\n",
            "Epoch 43/200\n",
            "10484/10484 [==============================] - 6s 603us/step - loss: 0.9335 - acc: 0.6312 - val_loss: 1.0732 - val_acc: 0.5849\n",
            "Epoch 44/200\n",
            "10484/10484 [==============================] - 7s 641us/step - loss: 0.9334 - acc: 0.6373 - val_loss: 1.0053 - val_acc: 0.6101\n",
            "Epoch 45/200\n",
            "10484/10484 [==============================] - 6s 607us/step - loss: 0.9333 - acc: 0.6391 - val_loss: 1.0066 - val_acc: 0.6269\n",
            "Epoch 46/200\n",
            "10484/10484 [==============================] - 7s 665us/step - loss: 0.9337 - acc: 0.6321 - val_loss: 0.9519 - val_acc: 0.6375\n",
            "Epoch 47/200\n",
            "10484/10484 [==============================] - 6s 601us/step - loss: 0.9220 - acc: 0.6421 - val_loss: 1.0136 - val_acc: 0.6040\n",
            "Epoch 48/200\n",
            "10484/10484 [==============================] - 6s 596us/step - loss: 0.9254 - acc: 0.6335 - val_loss: 0.9546 - val_acc: 0.6307\n",
            "Epoch 49/200\n",
            "10484/10484 [==============================] - 6s 619us/step - loss: 0.9210 - acc: 0.6388 - val_loss: 0.9845 - val_acc: 0.6105\n",
            "Epoch 50/200\n",
            "10484/10484 [==============================] - 6s 578us/step - loss: 0.9174 - acc: 0.6423 - val_loss: 0.9707 - val_acc: 0.6261\n",
            "Epoch 51/200\n",
            "10484/10484 [==============================] - 6s 576us/step - loss: 0.9104 - acc: 0.6415 - val_loss: 0.9591 - val_acc: 0.6295\n",
            "Epoch 52/200\n",
            "10484/10484 [==============================] - 6s 577us/step - loss: 0.9029 - acc: 0.6444 - val_loss: 0.9384 - val_acc: 0.6429\n",
            "Epoch 53/200\n",
            "10484/10484 [==============================] - 6s 578us/step - loss: 0.9025 - acc: 0.6446 - val_loss: 0.9415 - val_acc: 0.6417\n",
            "Epoch 54/200\n",
            "10484/10484 [==============================] - 6s 577us/step - loss: 0.9053 - acc: 0.6413 - val_loss: 0.9214 - val_acc: 0.6322\n",
            "Epoch 55/200\n",
            "10484/10484 [==============================] - 6s 575us/step - loss: 0.9036 - acc: 0.6422 - val_loss: 1.0059 - val_acc: 0.6234\n",
            "Epoch 56/200\n",
            "10484/10484 [==============================] - 6s 611us/step - loss: 0.9027 - acc: 0.6420 - val_loss: 0.9839 - val_acc: 0.6299\n",
            "Epoch 57/200\n",
            "10484/10484 [==============================] - 7s 641us/step - loss: 0.9087 - acc: 0.6360 - val_loss: 0.9814 - val_acc: 0.6219\n",
            "Epoch 58/200\n",
            "10484/10484 [==============================] - 6s 576us/step - loss: 0.8943 - acc: 0.6473 - val_loss: 1.0096 - val_acc: 0.6227\n",
            "Epoch 59/200\n",
            "10484/10484 [==============================] - 6s 576us/step - loss: 0.9003 - acc: 0.6470 - val_loss: 0.9338 - val_acc: 0.6524\n",
            "Epoch 60/200\n",
            "10484/10484 [==============================] - 6s 578us/step - loss: 0.8910 - acc: 0.6498 - val_loss: 0.9402 - val_acc: 0.6471\n",
            "Epoch 61/200\n",
            "10484/10484 [==============================] - 6s 578us/step - loss: 0.8852 - acc: 0.6560 - val_loss: 0.9264 - val_acc: 0.6410\n",
            "Epoch 62/200\n",
            "10484/10484 [==============================] - 6s 580us/step - loss: 0.8849 - acc: 0.6525 - val_loss: 0.9184 - val_acc: 0.6551\n",
            "Epoch 63/200\n",
            "10484/10484 [==============================] - 6s 582us/step - loss: 0.8973 - acc: 0.6506 - val_loss: 0.9538 - val_acc: 0.6269\n",
            "Epoch 64/200\n",
            "10484/10484 [==============================] - 6s 578us/step - loss: 0.8827 - acc: 0.6576 - val_loss: 1.0177 - val_acc: 0.6211\n",
            "Epoch 65/200\n",
            "10484/10484 [==============================] - 6s 577us/step - loss: 0.8850 - acc: 0.6564 - val_loss: 0.9260 - val_acc: 0.6444\n",
            "Epoch 66/200\n",
            "10484/10484 [==============================] - 6s 576us/step - loss: 0.8784 - acc: 0.6507 - val_loss: 0.9086 - val_acc: 0.6574\n",
            "Epoch 67/200\n",
            "10484/10484 [==============================] - 6s 579us/step - loss: 0.8755 - acc: 0.6567 - val_loss: 0.9279 - val_acc: 0.6440\n",
            "Epoch 68/200\n",
            "10484/10484 [==============================] - 6s 579us/step - loss: 0.8764 - acc: 0.6531 - val_loss: 0.8999 - val_acc: 0.6593\n",
            "Epoch 69/200\n",
            "10484/10484 [==============================] - 6s 606us/step - loss: 0.8751 - acc: 0.6563 - val_loss: 0.9257 - val_acc: 0.6597\n",
            "Epoch 70/200\n",
            "10484/10484 [==============================] - 7s 645us/step - loss: 0.8879 - acc: 0.6483 - val_loss: 0.9241 - val_acc: 0.6467\n",
            "Epoch 71/200\n",
            "10484/10484 [==============================] - 6s 581us/step - loss: 0.8762 - acc: 0.6574 - val_loss: 0.9076 - val_acc: 0.6574\n",
            "Epoch 72/200\n",
            "10484/10484 [==============================] - 6s 579us/step - loss: 0.8665 - acc: 0.6611 - val_loss: 0.9128 - val_acc: 0.6490\n",
            "Epoch 73/200\n",
            "10484/10484 [==============================] - 6s 578us/step - loss: 0.8635 - acc: 0.6593 - val_loss: 0.8823 - val_acc: 0.6646\n",
            "Epoch 74/200\n",
            "10484/10484 [==============================] - 6s 575us/step - loss: 0.8579 - acc: 0.6584 - val_loss: 0.9152 - val_acc: 0.6555\n",
            "Epoch 75/200\n",
            "10484/10484 [==============================] - 6s 574us/step - loss: 0.8519 - acc: 0.6643 - val_loss: 0.9207 - val_acc: 0.6509\n",
            "Epoch 76/200\n",
            "10484/10484 [==============================] - 6s 576us/step - loss: 0.8581 - acc: 0.6617 - val_loss: 0.9059 - val_acc: 0.6646\n",
            "Epoch 77/200\n",
            "10484/10484 [==============================] - 6s 580us/step - loss: 0.8607 - acc: 0.6654 - val_loss: 0.8868 - val_acc: 0.6551\n",
            "Epoch 78/200\n",
            "10484/10484 [==============================] - 6s 576us/step - loss: 0.8609 - acc: 0.6625 - val_loss: 0.9046 - val_acc: 0.6604\n",
            "Epoch 79/200\n",
            "10484/10484 [==============================] - 6s 578us/step - loss: 0.8581 - acc: 0.6630 - val_loss: 0.8983 - val_acc: 0.6581\n",
            "Epoch 80/200\n",
            "10484/10484 [==============================] - 6s 575us/step - loss: 0.8593 - acc: 0.6621 - val_loss: 0.9405 - val_acc: 0.6345\n",
            "Epoch 81/200\n",
            "10484/10484 [==============================] - 6s 578us/step - loss: 0.8562 - acc: 0.6632 - val_loss: 0.9142 - val_acc: 0.6490\n",
            "Epoch 82/200\n",
            "10484/10484 [==============================] - 6s 594us/step - loss: 0.8578 - acc: 0.6626 - val_loss: 0.9441 - val_acc: 0.6520\n",
            "Epoch 83/200\n",
            "10484/10484 [==============================] - 7s 643us/step - loss: 0.8529 - acc: 0.6677 - val_loss: 0.9600 - val_acc: 0.6486\n",
            "Epoch 84/200\n",
            "10484/10484 [==============================] - 6s 591us/step - loss: 0.8616 - acc: 0.6609 - val_loss: 0.9476 - val_acc: 0.6391\n",
            "Epoch 85/200\n",
            "10484/10484 [==============================] - 6s 574us/step - loss: 0.8520 - acc: 0.6643 - val_loss: 0.8965 - val_acc: 0.6578\n",
            "Epoch 86/200\n",
            "10484/10484 [==============================] - 6s 574us/step - loss: 0.8537 - acc: 0.6602 - val_loss: 0.9247 - val_acc: 0.6414\n",
            "Epoch 87/200\n",
            "10484/10484 [==============================] - 6s 577us/step - loss: 0.8549 - acc: 0.6651 - val_loss: 0.8570 - val_acc: 0.6765\n",
            "Epoch 88/200\n",
            "10484/10484 [==============================] - 6s 575us/step - loss: 0.8486 - acc: 0.6664 - val_loss: 0.9945 - val_acc: 0.6379\n",
            "Epoch 89/200\n",
            "10484/10484 [==============================] - 6s 576us/step - loss: 0.8412 - acc: 0.6672 - val_loss: 0.8898 - val_acc: 0.6665\n",
            "Epoch 90/200\n",
            "10484/10484 [==============================] - 6s 580us/step - loss: 0.8396 - acc: 0.6727 - val_loss: 0.8896 - val_acc: 0.6681\n",
            "Epoch 91/200\n",
            "10484/10484 [==============================] - 6s 578us/step - loss: 0.8466 - acc: 0.6709 - val_loss: 0.9208 - val_acc: 0.6593\n",
            "Epoch 92/200\n",
            "10484/10484 [==============================] - 6s 577us/step - loss: 0.8441 - acc: 0.6657 - val_loss: 0.8973 - val_acc: 0.6597\n",
            "Epoch 93/200\n",
            "10484/10484 [==============================] - 6s 573us/step - loss: 0.8422 - acc: 0.6680 - val_loss: 0.9122 - val_acc: 0.6524\n",
            "Epoch 94/200\n",
            "10484/10484 [==============================] - 6s 574us/step - loss: 0.8426 - acc: 0.6670 - val_loss: 0.8791 - val_acc: 0.6669\n",
            "Epoch 95/200\n",
            "10484/10484 [==============================] - 6s 585us/step - loss: 0.8256 - acc: 0.6763 - val_loss: 0.9168 - val_acc: 0.6562\n",
            "Epoch 96/200\n",
            "10484/10484 [==============================] - 7s 664us/step - loss: 0.8458 - acc: 0.6671 - val_loss: 0.8987 - val_acc: 0.6646\n",
            "Epoch 97/200\n",
            "10484/10484 [==============================] - 7s 641us/step - loss: 0.8422 - acc: 0.6669 - val_loss: 0.8936 - val_acc: 0.6646\n",
            "Epoch 98/200\n",
            "10484/10484 [==============================] - 7s 634us/step - loss: 0.8310 - acc: 0.6691 - val_loss: 0.9153 - val_acc: 0.6650\n",
            "Epoch 99/200\n",
            "10484/10484 [==============================] - 6s 580us/step - loss: 0.8351 - acc: 0.6727 - val_loss: 0.8830 - val_acc: 0.6574\n",
            "Epoch 100/200\n",
            "10484/10484 [==============================] - 6s 579us/step - loss: 0.8308 - acc: 0.6715 - val_loss: 0.8964 - val_acc: 0.6597\n",
            "Epoch 101/200\n",
            "10484/10484 [==============================] - 6s 573us/step - loss: 0.8253 - acc: 0.6754 - val_loss: 0.8785 - val_acc: 0.6749\n",
            "Epoch 102/200\n",
            "10484/10484 [==============================] - 6s 576us/step - loss: 0.8221 - acc: 0.6767 - val_loss: 0.9073 - val_acc: 0.6692\n",
            "Epoch 103/200\n",
            "10484/10484 [==============================] - 6s 574us/step - loss: 0.8370 - acc: 0.6646 - val_loss: 0.8835 - val_acc: 0.6643\n",
            "Epoch 104/200\n",
            "10484/10484 [==============================] - 6s 577us/step - loss: 0.8148 - acc: 0.6789 - val_loss: 0.8906 - val_acc: 0.6673\n",
            "Epoch 105/200\n",
            "10484/10484 [==============================] - 6s 578us/step - loss: 0.8182 - acc: 0.6769 - val_loss: 0.8681 - val_acc: 0.6730\n",
            "Epoch 106/200\n",
            "10484/10484 [==============================] - 6s 573us/step - loss: 0.8170 - acc: 0.6762 - val_loss: 0.8993 - val_acc: 0.6456\n",
            "Epoch 107/200\n",
            "10484/10484 [==============================] - 6s 577us/step - loss: 0.8118 - acc: 0.6801 - val_loss: 0.8744 - val_acc: 0.6707\n",
            "Epoch 108/200\n",
            "10484/10484 [==============================] - 6s 587us/step - loss: 0.8196 - acc: 0.6804 - val_loss: 0.8665 - val_acc: 0.6753\n",
            "Epoch 109/200\n",
            "10484/10484 [==============================] - 7s 645us/step - loss: 0.8171 - acc: 0.6757 - val_loss: 0.8616 - val_acc: 0.6723\n",
            "Epoch 110/200\n",
            "10484/10484 [==============================] - 6s 595us/step - loss: 0.8196 - acc: 0.6741 - val_loss: 0.9104 - val_acc: 0.6578\n",
            "Epoch 111/200\n",
            "10484/10484 [==============================] - 6s 576us/step - loss: 0.8083 - acc: 0.6822 - val_loss: 0.9117 - val_acc: 0.6650\n",
            "Epoch 112/200\n",
            "10484/10484 [==============================] - 6s 576us/step - loss: 0.8188 - acc: 0.6770 - val_loss: 0.8758 - val_acc: 0.6734\n",
            "Epoch 113/200\n",
            "10484/10484 [==============================] - 6s 578us/step - loss: 0.8038 - acc: 0.6787 - val_loss: 0.9131 - val_acc: 0.6665\n",
            "Epoch 114/200\n",
            "10484/10484 [==============================] - 6s 575us/step - loss: 0.8218 - acc: 0.6775 - val_loss: 0.8756 - val_acc: 0.6757\n",
            "Epoch 115/200\n",
            "10484/10484 [==============================] - 6s 578us/step - loss: 0.8134 - acc: 0.6763 - val_loss: 0.9117 - val_acc: 0.6459\n",
            "Epoch 116/200\n",
            "10484/10484 [==============================] - 6s 574us/step - loss: 0.8146 - acc: 0.6774 - val_loss: 0.9119 - val_acc: 0.6639\n",
            "Epoch 117/200\n",
            "10484/10484 [==============================] - 6s 574us/step - loss: 0.8088 - acc: 0.6826 - val_loss: 0.9003 - val_acc: 0.6631\n",
            "Epoch 118/200\n",
            "10484/10484 [==============================] - 6s 573us/step - loss: 0.8041 - acc: 0.6819 - val_loss: 0.8954 - val_acc: 0.6601\n",
            "Epoch 119/200\n",
            "10484/10484 [==============================] - 6s 576us/step - loss: 0.8038 - acc: 0.6820 - val_loss: 0.9092 - val_acc: 0.6646\n",
            "Epoch 120/200\n",
            "10484/10484 [==============================] - 6s 578us/step - loss: 0.7980 - acc: 0.6846 - val_loss: 0.9128 - val_acc: 0.6539\n",
            "Epoch 121/200\n",
            "10484/10484 [==============================] - 6s 584us/step - loss: 0.7997 - acc: 0.6825 - val_loss: 0.8795 - val_acc: 0.6696\n",
            "Epoch 122/200\n",
            "10484/10484 [==============================] - 7s 638us/step - loss: 0.7950 - acc: 0.6821 - val_loss: 0.8878 - val_acc: 0.6753\n",
            "Epoch 123/200\n",
            "10484/10484 [==============================] - 6s 605us/step - loss: 0.7972 - acc: 0.6854 - val_loss: 0.9130 - val_acc: 0.6612\n",
            "Epoch 124/200\n",
            "10484/10484 [==============================] - 6s 575us/step - loss: 0.7979 - acc: 0.6844 - val_loss: 0.8715 - val_acc: 0.6738\n",
            "Epoch 125/200\n",
            "10484/10484 [==============================] - 6s 578us/step - loss: 0.7950 - acc: 0.6902 - val_loss: 0.8874 - val_acc: 0.6799\n",
            "Epoch 126/200\n",
            "10484/10484 [==============================] - 6s 576us/step - loss: 0.7935 - acc: 0.6851 - val_loss: 0.8650 - val_acc: 0.6681\n",
            "Epoch 127/200\n",
            "10484/10484 [==============================] - 6s 576us/step - loss: 0.7845 - acc: 0.6861 - val_loss: 0.8821 - val_acc: 0.6688\n",
            "Epoch 128/200\n",
            "10484/10484 [==============================] - 6s 572us/step - loss: 0.7956 - acc: 0.6864 - val_loss: 0.9017 - val_acc: 0.6562\n",
            "Epoch 129/200\n",
            "10484/10484 [==============================] - 6s 579us/step - loss: 0.7951 - acc: 0.6845 - val_loss: 0.8782 - val_acc: 0.6738\n",
            "Epoch 130/200\n",
            "10484/10484 [==============================] - 6s 577us/step - loss: 0.7907 - acc: 0.6847 - val_loss: 0.9263 - val_acc: 0.6570\n",
            "Epoch 131/200\n",
            "10484/10484 [==============================] - 6s 576us/step - loss: 0.7928 - acc: 0.6817 - val_loss: 0.9184 - val_acc: 0.6612\n",
            "Epoch 132/200\n",
            "10484/10484 [==============================] - 6s 577us/step - loss: 0.7813 - acc: 0.6893 - val_loss: 0.9286 - val_acc: 0.6459\n",
            "Epoch 133/200\n",
            "10484/10484 [==============================] - 6s 576us/step - loss: 0.7975 - acc: 0.6836 - val_loss: 0.9012 - val_acc: 0.6768\n",
            "Epoch 134/200\n",
            "10484/10484 [==============================] - 6s 576us/step - loss: 0.7866 - acc: 0.6886 - val_loss: 0.9080 - val_acc: 0.6604\n",
            "Epoch 135/200\n",
            "10484/10484 [==============================] - 7s 640us/step - loss: 0.7754 - acc: 0.6940 - val_loss: 0.8797 - val_acc: 0.6635\n",
            "Epoch 136/200\n",
            "10484/10484 [==============================] - 6s 616us/step - loss: 0.7820 - acc: 0.6890 - val_loss: 0.8969 - val_acc: 0.6707\n",
            "Epoch 137/200\n",
            "10484/10484 [==============================] - 6s 574us/step - loss: 0.7738 - acc: 0.6906 - val_loss: 0.8735 - val_acc: 0.6761\n",
            "Epoch 138/200\n",
            "10484/10484 [==============================] - 6s 572us/step - loss: 0.7789 - acc: 0.6902 - val_loss: 0.8848 - val_acc: 0.6635\n",
            "Epoch 139/200\n",
            "10484/10484 [==============================] - 6s 573us/step - loss: 0.7794 - acc: 0.6948 - val_loss: 0.9168 - val_acc: 0.6715\n",
            "Epoch 140/200\n",
            "10484/10484 [==============================] - 6s 577us/step - loss: 0.7811 - acc: 0.6884 - val_loss: 0.8950 - val_acc: 0.6562\n",
            "Epoch 141/200\n",
            "10484/10484 [==============================] - 6s 577us/step - loss: 0.7885 - acc: 0.6880 - val_loss: 0.9170 - val_acc: 0.6604\n",
            "Epoch 142/200\n",
            "10484/10484 [==============================] - 6s 579us/step - loss: 0.7742 - acc: 0.6967 - val_loss: 0.8726 - val_acc: 0.6845\n",
            "Epoch 143/200\n",
            "10484/10484 [==============================] - 6s 576us/step - loss: 0.7672 - acc: 0.6944 - val_loss: 0.9105 - val_acc: 0.6452\n",
            "Epoch 144/200\n",
            "10484/10484 [==============================] - 6s 577us/step - loss: 0.7726 - acc: 0.6911 - val_loss: 0.9189 - val_acc: 0.6585\n",
            "Epoch 145/200\n",
            "10484/10484 [==============================] - 6s 573us/step - loss: 0.7683 - acc: 0.6935 - val_loss: 0.8837 - val_acc: 0.6681\n",
            "Epoch 146/200\n",
            "10484/10484 [==============================] - 6s 594us/step - loss: 0.7750 - acc: 0.6885 - val_loss: 0.8919 - val_acc: 0.6669\n",
            "Epoch 147/200\n",
            "10484/10484 [==============================] - 7s 667us/step - loss: 0.7783 - acc: 0.6951 - val_loss: 0.8815 - val_acc: 0.6849\n",
            "Epoch 148/200\n",
            "10484/10484 [==============================] - 7s 659us/step - loss: 0.7751 - acc: 0.6871 - val_loss: 0.9264 - val_acc: 0.6574\n",
            "Epoch 149/200\n",
            "10484/10484 [==============================] - 6s 609us/step - loss: 0.7773 - acc: 0.6921 - val_loss: 0.9147 - val_acc: 0.6608\n",
            "Epoch 150/200\n",
            "10484/10484 [==============================] - 6s 576us/step - loss: 0.7767 - acc: 0.6919 - val_loss: 0.9397 - val_acc: 0.6444\n",
            "Epoch 151/200\n",
            "10484/10484 [==============================] - 6s 579us/step - loss: 0.7630 - acc: 0.6935 - val_loss: 0.8706 - val_acc: 0.6772\n",
            "Epoch 152/200\n",
            "10484/10484 [==============================] - 6s 578us/step - loss: 0.7675 - acc: 0.6924 - val_loss: 0.8716 - val_acc: 0.6665\n",
            "Epoch 153/200\n",
            "10484/10484 [==============================] - 6s 578us/step - loss: 0.7770 - acc: 0.6928 - val_loss: 0.9027 - val_acc: 0.6612\n",
            "Epoch 154/200\n",
            "10484/10484 [==============================] - 6s 576us/step - loss: 0.7772 - acc: 0.6890 - val_loss: 0.8826 - val_acc: 0.6723\n",
            "Epoch 155/200\n",
            "10484/10484 [==============================] - 6s 578us/step - loss: 0.7687 - acc: 0.6948 - val_loss: 0.8831 - val_acc: 0.6749\n",
            "Epoch 156/200\n",
            "10484/10484 [==============================] - 6s 576us/step - loss: 0.7649 - acc: 0.6958 - val_loss: 0.8726 - val_acc: 0.6776\n",
            "Epoch 157/200\n",
            "10484/10484 [==============================] - 6s 576us/step - loss: 0.7746 - acc: 0.6941 - val_loss: 0.8693 - val_acc: 0.6765\n",
            "Epoch 158/200\n",
            "10484/10484 [==============================] - 6s 575us/step - loss: 0.7636 - acc: 0.6961 - val_loss: 0.9076 - val_acc: 0.6711\n",
            "Epoch 159/200\n",
            "10484/10484 [==============================] - 6s 577us/step - loss: 0.7691 - acc: 0.6910 - val_loss: 0.9224 - val_acc: 0.6543\n",
            "Epoch 160/200\n",
            "10484/10484 [==============================] - 6s 576us/step - loss: 0.7664 - acc: 0.6952 - val_loss: 0.8888 - val_acc: 0.6650\n",
            "Epoch 161/200\n",
            "10484/10484 [==============================] - 7s 635us/step - loss: 0.7631 - acc: 0.7004 - val_loss: 0.8884 - val_acc: 0.6684\n",
            "Epoch 162/200\n",
            "10484/10484 [==============================] - 6s 618us/step - loss: 0.7585 - acc: 0.6978 - val_loss: 0.8851 - val_acc: 0.6658\n",
            "Epoch 163/200\n",
            "10484/10484 [==============================] - 6s 575us/step - loss: 0.7631 - acc: 0.6987 - val_loss: 0.8941 - val_acc: 0.6704\n",
            "Epoch 164/200\n",
            "10484/10484 [==============================] - 6s 581us/step - loss: 0.7539 - acc: 0.6986 - val_loss: 0.8785 - val_acc: 0.6665\n",
            "Epoch 165/200\n",
            "10484/10484 [==============================] - 6s 574us/step - loss: 0.7478 - acc: 0.6983 - val_loss: 0.8789 - val_acc: 0.6780\n",
            "Epoch 166/200\n",
            "10484/10484 [==============================] - 6s 577us/step - loss: 0.7591 - acc: 0.6946 - val_loss: 0.8596 - val_acc: 0.6757\n",
            "Epoch 167/200\n",
            "10484/10484 [==============================] - 6s 575us/step - loss: 0.7591 - acc: 0.6932 - val_loss: 0.9050 - val_acc: 0.6704\n",
            "Epoch 168/200\n",
            "10484/10484 [==============================] - 6s 580us/step - loss: 0.7519 - acc: 0.7009 - val_loss: 0.8737 - val_acc: 0.6810\n",
            "Epoch 169/200\n",
            "10484/10484 [==============================] - 6s 577us/step - loss: 0.7413 - acc: 0.7027 - val_loss: 0.8569 - val_acc: 0.6860\n",
            "Epoch 170/200\n",
            "10484/10484 [==============================] - 6s 579us/step - loss: 0.7628 - acc: 0.6955 - val_loss: 0.8720 - val_acc: 0.6818\n",
            "Epoch 171/200\n",
            "10484/10484 [==============================] - 6s 580us/step - loss: 0.7620 - acc: 0.6945 - val_loss: 0.8704 - val_acc: 0.6757\n",
            "Epoch 172/200\n",
            "10484/10484 [==============================] - 6s 580us/step - loss: 0.7551 - acc: 0.6986 - val_loss: 0.8794 - val_acc: 0.6742\n",
            "Epoch 173/200\n",
            "10484/10484 [==============================] - 6s 578us/step - loss: 0.7689 - acc: 0.6901 - val_loss: 0.8873 - val_acc: 0.6620\n",
            "Epoch 174/200\n",
            "10484/10484 [==============================] - 7s 633us/step - loss: 0.7555 - acc: 0.7015 - val_loss: 0.8772 - val_acc: 0.6730\n",
            "Epoch 175/200\n",
            "10484/10484 [==============================] - 7s 626us/step - loss: 0.7455 - acc: 0.6999 - val_loss: 0.8679 - val_acc: 0.6723\n",
            "Epoch 176/200\n",
            "10484/10484 [==============================] - 6s 576us/step - loss: 0.7509 - acc: 0.6992 - val_loss: 0.8728 - val_acc: 0.6723\n",
            "Epoch 177/200\n",
            "10484/10484 [==============================] - 6s 576us/step - loss: 0.7484 - acc: 0.7020 - val_loss: 0.8494 - val_acc: 0.6925\n",
            "Epoch 178/200\n",
            "10484/10484 [==============================] - 6s 575us/step - loss: 0.7453 - acc: 0.6994 - val_loss: 0.9065 - val_acc: 0.6681\n",
            "Epoch 179/200\n",
            "10484/10484 [==============================] - 6s 578us/step - loss: 0.7540 - acc: 0.6981 - val_loss: 0.8649 - val_acc: 0.6772\n",
            "Epoch 180/200\n",
            "10484/10484 [==============================] - 6s 577us/step - loss: 0.7511 - acc: 0.7010 - val_loss: 0.8795 - val_acc: 0.6707\n",
            "Epoch 181/200\n",
            "10484/10484 [==============================] - 6s 574us/step - loss: 0.7578 - acc: 0.7004 - val_loss: 0.8947 - val_acc: 0.6780\n",
            "Epoch 182/200\n",
            "10484/10484 [==============================] - 6s 578us/step - loss: 0.7512 - acc: 0.7014 - val_loss: 0.8951 - val_acc: 0.6753\n",
            "Epoch 183/200\n",
            "10484/10484 [==============================] - 6s 576us/step - loss: 0.7423 - acc: 0.7024 - val_loss: 0.8818 - val_acc: 0.6761\n",
            "Epoch 184/200\n",
            "10484/10484 [==============================] - 6s 578us/step - loss: 0.7403 - acc: 0.6996 - val_loss: 0.8922 - val_acc: 0.6841\n",
            "Epoch 185/200\n",
            "10484/10484 [==============================] - 6s 578us/step - loss: 0.7504 - acc: 0.7035 - val_loss: 0.8506 - val_acc: 0.6906\n",
            "Epoch 186/200\n",
            "10484/10484 [==============================] - 6s 575us/step - loss: 0.7476 - acc: 0.7003 - val_loss: 0.9372 - val_acc: 0.6627\n",
            "Epoch 187/200\n",
            "10484/10484 [==============================] - 7s 622us/step - loss: 0.7505 - acc: 0.7010 - val_loss: 0.8586 - val_acc: 0.6864\n",
            "Epoch 188/200\n",
            "10484/10484 [==============================] - 7s 633us/step - loss: 0.7556 - acc: 0.6958 - val_loss: 0.8737 - val_acc: 0.6780\n",
            "Epoch 189/200\n",
            "10484/10484 [==============================] - 6s 576us/step - loss: 0.7500 - acc: 0.6986 - val_loss: 0.8972 - val_acc: 0.6688\n",
            "Epoch 190/200\n",
            "10484/10484 [==============================] - 6s 576us/step - loss: 0.7370 - acc: 0.7070 - val_loss: 0.8953 - val_acc: 0.6776\n",
            "Epoch 191/200\n",
            "10484/10484 [==============================] - 6s 575us/step - loss: 0.7490 - acc: 0.6989 - val_loss: 0.8794 - val_acc: 0.6833\n",
            "Epoch 192/200\n",
            "10484/10484 [==============================] - 6s 578us/step - loss: 0.7519 - acc: 0.6973 - val_loss: 0.8526 - val_acc: 0.6921\n",
            "Epoch 193/200\n",
            "10484/10484 [==============================] - 6s 578us/step - loss: 0.7363 - acc: 0.7083 - val_loss: 0.8726 - val_acc: 0.6791\n",
            "Epoch 194/200\n",
            "10484/10484 [==============================] - 6s 578us/step - loss: 0.7314 - acc: 0.7099 - val_loss: 0.8831 - val_acc: 0.6784\n",
            "Epoch 195/200\n",
            "10484/10484 [==============================] - 6s 576us/step - loss: 0.7432 - acc: 0.7013 - val_loss: 0.8728 - val_acc: 0.6826\n",
            "Epoch 196/200\n",
            "10484/10484 [==============================] - 6s 578us/step - loss: 0.7408 - acc: 0.7034 - val_loss: 0.8556 - val_acc: 0.6856\n",
            "Epoch 197/200\n",
            "10484/10484 [==============================] - 7s 649us/step - loss: 0.7451 - acc: 0.7037 - val_loss: 0.8812 - val_acc: 0.6791\n",
            "Epoch 198/200\n",
            "10484/10484 [==============================] - 7s 638us/step - loss: 0.7329 - acc: 0.7033 - val_loss: 0.8826 - val_acc: 0.6898\n",
            "Epoch 199/200\n",
            "10484/10484 [==============================] - 6s 577us/step - loss: 0.7437 - acc: 0.6985 - val_loss: 0.9226 - val_acc: 0.6776\n",
            "Epoch 200/200\n",
            "10484/10484 [==============================] - 7s 624us/step - loss: 0.7311 - acc: 0.7038 - val_loss: 0.8649 - val_acc: 0.6856\n",
            "Accuracy (validation set): 0.6856161767132907.\n"
          ],
          "name": "stdout"
        }
      ]
    },
    {
      "cell_type": "code",
      "metadata": {
        "id": "AmjO6VkEkwNX",
        "colab_type": "code",
        "outputId": "c8a1ba6c-9f29-48e7-cae5-13ed1f532967",
        "colab": {
          "base_uri": "https://localhost:8080/",
          "height": 269
        }
      },
      "source": [
        "plot_accuracy_history(model)"
      ],
      "execution_count": 0,
      "outputs": [
        {
          "output_type": "display_data",
          "data": {
            "image/png": "[encoded data removed]",
            "text/plain": [
              "<Figure size 432x288 with 1 Axes>"
            ]
          },
          "metadata": {
            "tags": []
          }
        }
      ]
    },
    {
      "cell_type": "code",
      "metadata": {
        "id": "31CXda_kkzBa",
        "colab_type": "code",
        "outputId": "3b48f1af-9c06-418a-ec22-0966932e443d",
        "colab": {
          "base_uri": "https://localhost:8080/",
          "height": 269
        }
      },
      "source": [
        "plot_loss_history(model)"
      ],
      "execution_count": 0,
      "outputs": [
        {
          "output_type": "display_data",
          "data": {
            "image/png": "[encoded data removed]",
            "text/plain": [
              "<Figure size 432x288 with 1 Axes>"
            ]
          },
          "metadata": {
            "tags": []
          }
        }
      ]
    },
    {
      "cell_type": "code",
      "metadata": {
        "id": "81g65F-VA1bS",
        "colab_type": "code",
        "outputId": "85c63c6a-f0f9-4e9f-d88d-53489232db11",
        "colab": {
          "base_uri": "https://localhost:8080/",
          "height": 50
        }
      },
      "source": [
        "print (f'Accuracy (test set): {model.evaluate(X_test, y_test)[1]}.')"
      ],
      "execution_count": 0,
      "outputs": [
        {
          "output_type": "stream",
          "text": [
            "3277/3277 [==============================] - 0s 57us/step\n",
            "Accuracy (test set): 0.6838571864873998.\n"
          ],
          "name": "stdout"
        }
      ]
    }
  ]
}